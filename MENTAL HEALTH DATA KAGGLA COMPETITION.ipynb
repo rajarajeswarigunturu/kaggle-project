{
 "cells": [
  {
   "cell_type": "code",
   "execution_count": 1,
   "id": "ffc6831e",
   "metadata": {},
   "outputs": [
    {
     "data": {
      "text/html": [
       "<div>\n",
       "<style scoped>\n",
       "    .dataframe tbody tr th:only-of-type {\n",
       "        vertical-align: middle;\n",
       "    }\n",
       "\n",
       "    .dataframe tbody tr th {\n",
       "        vertical-align: top;\n",
       "    }\n",
       "\n",
       "    .dataframe thead th {\n",
       "        text-align: right;\n",
       "    }\n",
       "</style>\n",
       "<table border=\"1\" class=\"dataframe\">\n",
       "  <thead>\n",
       "    <tr style=\"text-align: right;\">\n",
       "      <th></th>\n",
       "      <th>id</th>\n",
       "      <th>Name</th>\n",
       "      <th>Gender</th>\n",
       "      <th>Age</th>\n",
       "      <th>City</th>\n",
       "      <th>Working Professional or Student</th>\n",
       "      <th>Profession</th>\n",
       "      <th>Academic Pressure</th>\n",
       "      <th>Work Pressure</th>\n",
       "      <th>CGPA</th>\n",
       "      <th>Study Satisfaction</th>\n",
       "      <th>Job Satisfaction</th>\n",
       "      <th>Sleep Duration</th>\n",
       "      <th>Dietary Habits</th>\n",
       "      <th>Degree</th>\n",
       "      <th>Have you ever had suicidal thoughts ?</th>\n",
       "      <th>Work/Study Hours</th>\n",
       "      <th>Financial Stress</th>\n",
       "      <th>Family History of Mental Illness</th>\n",
       "      <th>Depression</th>\n",
       "    </tr>\n",
       "  </thead>\n",
       "  <tbody>\n",
       "    <tr>\n",
       "      <th>0</th>\n",
       "      <td>0</td>\n",
       "      <td>Aaradhya</td>\n",
       "      <td>Female</td>\n",
       "      <td>49.0</td>\n",
       "      <td>Ludhiana</td>\n",
       "      <td>Working Professional</td>\n",
       "      <td>Chef</td>\n",
       "      <td>NaN</td>\n",
       "      <td>5.0</td>\n",
       "      <td>NaN</td>\n",
       "      <td>NaN</td>\n",
       "      <td>2.0</td>\n",
       "      <td>More than 8 hours</td>\n",
       "      <td>Healthy</td>\n",
       "      <td>BHM</td>\n",
       "      <td>No</td>\n",
       "      <td>1.0</td>\n",
       "      <td>2.0</td>\n",
       "      <td>No</td>\n",
       "      <td>0</td>\n",
       "    </tr>\n",
       "    <tr>\n",
       "      <th>1</th>\n",
       "      <td>1</td>\n",
       "      <td>Vivan</td>\n",
       "      <td>Male</td>\n",
       "      <td>26.0</td>\n",
       "      <td>Varanasi</td>\n",
       "      <td>Working Professional</td>\n",
       "      <td>Teacher</td>\n",
       "      <td>NaN</td>\n",
       "      <td>4.0</td>\n",
       "      <td>NaN</td>\n",
       "      <td>NaN</td>\n",
       "      <td>3.0</td>\n",
       "      <td>Less than 5 hours</td>\n",
       "      <td>Unhealthy</td>\n",
       "      <td>LLB</td>\n",
       "      <td>Yes</td>\n",
       "      <td>7.0</td>\n",
       "      <td>3.0</td>\n",
       "      <td>No</td>\n",
       "      <td>1</td>\n",
       "    </tr>\n",
       "    <tr>\n",
       "      <th>2</th>\n",
       "      <td>2</td>\n",
       "      <td>Yuvraj</td>\n",
       "      <td>Male</td>\n",
       "      <td>33.0</td>\n",
       "      <td>Visakhapatnam</td>\n",
       "      <td>Student</td>\n",
       "      <td>NaN</td>\n",
       "      <td>5.0</td>\n",
       "      <td>NaN</td>\n",
       "      <td>8.97</td>\n",
       "      <td>2.0</td>\n",
       "      <td>NaN</td>\n",
       "      <td>5-6 hours</td>\n",
       "      <td>Healthy</td>\n",
       "      <td>B.Pharm</td>\n",
       "      <td>Yes</td>\n",
       "      <td>3.0</td>\n",
       "      <td>1.0</td>\n",
       "      <td>No</td>\n",
       "      <td>1</td>\n",
       "    </tr>\n",
       "    <tr>\n",
       "      <th>3</th>\n",
       "      <td>3</td>\n",
       "      <td>Yuvraj</td>\n",
       "      <td>Male</td>\n",
       "      <td>22.0</td>\n",
       "      <td>Mumbai</td>\n",
       "      <td>Working Professional</td>\n",
       "      <td>Teacher</td>\n",
       "      <td>NaN</td>\n",
       "      <td>5.0</td>\n",
       "      <td>NaN</td>\n",
       "      <td>NaN</td>\n",
       "      <td>1.0</td>\n",
       "      <td>Less than 5 hours</td>\n",
       "      <td>Moderate</td>\n",
       "      <td>BBA</td>\n",
       "      <td>Yes</td>\n",
       "      <td>10.0</td>\n",
       "      <td>1.0</td>\n",
       "      <td>Yes</td>\n",
       "      <td>1</td>\n",
       "    </tr>\n",
       "    <tr>\n",
       "      <th>4</th>\n",
       "      <td>4</td>\n",
       "      <td>Rhea</td>\n",
       "      <td>Female</td>\n",
       "      <td>30.0</td>\n",
       "      <td>Kanpur</td>\n",
       "      <td>Working Professional</td>\n",
       "      <td>Business Analyst</td>\n",
       "      <td>NaN</td>\n",
       "      <td>1.0</td>\n",
       "      <td>NaN</td>\n",
       "      <td>NaN</td>\n",
       "      <td>1.0</td>\n",
       "      <td>5-6 hours</td>\n",
       "      <td>Unhealthy</td>\n",
       "      <td>BBA</td>\n",
       "      <td>Yes</td>\n",
       "      <td>9.0</td>\n",
       "      <td>4.0</td>\n",
       "      <td>Yes</td>\n",
       "      <td>0</td>\n",
       "    </tr>\n",
       "  </tbody>\n",
       "</table>\n",
       "</div>"
      ],
      "text/plain": [
       "   id      Name  Gender   Age           City Working Professional or Student  \\\n",
       "0   0  Aaradhya  Female  49.0       Ludhiana            Working Professional   \n",
       "1   1     Vivan    Male  26.0       Varanasi            Working Professional   \n",
       "2   2    Yuvraj    Male  33.0  Visakhapatnam                         Student   \n",
       "3   3    Yuvraj    Male  22.0         Mumbai            Working Professional   \n",
       "4   4      Rhea  Female  30.0         Kanpur            Working Professional   \n",
       "\n",
       "         Profession  Academic Pressure  Work Pressure  CGPA  \\\n",
       "0              Chef                NaN            5.0   NaN   \n",
       "1           Teacher                NaN            4.0   NaN   \n",
       "2               NaN                5.0            NaN  8.97   \n",
       "3           Teacher                NaN            5.0   NaN   \n",
       "4  Business Analyst                NaN            1.0   NaN   \n",
       "\n",
       "   Study Satisfaction  Job Satisfaction     Sleep Duration Dietary Habits  \\\n",
       "0                 NaN               2.0  More than 8 hours        Healthy   \n",
       "1                 NaN               3.0  Less than 5 hours      Unhealthy   \n",
       "2                 2.0               NaN          5-6 hours        Healthy   \n",
       "3                 NaN               1.0  Less than 5 hours       Moderate   \n",
       "4                 NaN               1.0          5-6 hours      Unhealthy   \n",
       "\n",
       "    Degree Have you ever had suicidal thoughts ?  Work/Study Hours  \\\n",
       "0      BHM                                    No               1.0   \n",
       "1      LLB                                   Yes               7.0   \n",
       "2  B.Pharm                                   Yes               3.0   \n",
       "3      BBA                                   Yes              10.0   \n",
       "4      BBA                                   Yes               9.0   \n",
       "\n",
       "   Financial Stress Family History of Mental Illness  Depression  \n",
       "0               2.0                               No           0  \n",
       "1               3.0                               No           1  \n",
       "2               1.0                               No           1  \n",
       "3               1.0                              Yes           1  \n",
       "4               4.0                              Yes           0  "
      ]
     },
     "execution_count": 1,
     "metadata": {},
     "output_type": "execute_result"
    }
   ],
   "source": [
    "import pandas as pd\n",
    "import numpy as np\n",
    "dataset=pd.read_csv(r\"C:\\Users\\91903\\Downloads\\playground-series-s4e11\\train.csv\")\n",
    "testdata=pd.read_csv(r\"C:\\Users\\91903\\Downloads\\playground-series-s4e11\\test.csv\")\n",
    "dataset.head()"
   ]
  },
  {
   "cell_type": "code",
   "execution_count": 2,
   "id": "caf9da0a",
   "metadata": {},
   "outputs": [],
   "source": [
    "dataset[\"Gender_numeric\"]=dataset[\"Gender\"].map({\"Male\":0,\"Female\":1})\n",
    "dataset=dataset.drop(columns=['Gender'],axis=1)"
   ]
  },
  {
   "cell_type": "code",
   "execution_count": 3,
   "id": "cbad01ed",
   "metadata": {},
   "outputs": [
    {
     "data": {
      "text/plain": [
       "Kalyan         6591\n",
       "Patna          5924\n",
       "Vasai-Virar    5765\n",
       "Kolkata        5689\n",
       "Ahmedabad      5613\n",
       "               ... \n",
       "Shrey             1\n",
       "Ivaan             1\n",
       "Vaanya            1\n",
       "Gaurav            1\n",
       "Unirar            1\n",
       "Name: City, Length: 98, dtype: int64"
      ]
     },
     "execution_count": 3,
     "metadata": {},
     "output_type": "execute_result"
    }
   ],
   "source": [
    "dataset[\"City\"].value_counts()"
   ]
  },
  {
   "cell_type": "code",
   "execution_count": 4,
   "id": "09977a6e",
   "metadata": {},
   "outputs": [
    {
     "data": {
      "text/plain": [
       "Mihir      7\n",
       "Nandini    4\n",
       "Mahi       3\n",
       "Vidya      3\n",
       "City       3\n",
       "          ..\n",
       "Shrey      1\n",
       "Ivaan      1\n",
       "Vaanya     1\n",
       "Gaurav     1\n",
       "Unirar     1\n",
       "Name: City, Length: 68, dtype: int64"
      ]
     },
     "execution_count": 4,
     "metadata": {},
     "output_type": "execute_result"
    }
   ],
   "source": [
    "frequency=dataset[\"City\"].value_counts()\n",
    "outliers=frequency[frequency<=10]\n",
    "outliers"
   ]
  },
  {
   "cell_type": "code",
   "execution_count": 5,
   "id": "162b73be",
   "metadata": {},
   "outputs": [
    {
     "data": {
      "text/plain": [
       "'Kalyan'"
      ]
     },
     "execution_count": 5,
     "metadata": {},
     "output_type": "execute_result"
    }
   ],
   "source": [
    "dataset[\"City\"].mode()[0]"
   ]
  },
  {
   "cell_type": "code",
   "execution_count": 6,
   "id": "df870d47",
   "metadata": {},
   "outputs": [
    {
     "data": {
      "text/plain": [
       "Kalyan           6689\n",
       "Patna            5924\n",
       "Vasai-Virar      5765\n",
       "Kolkata          5689\n",
       "Ahmedabad        5613\n",
       "Meerut           5528\n",
       "Ludhiana         5226\n",
       "Pune             5210\n",
       "Rajkot           5207\n",
       "Visakhapatnam    5176\n",
       "Srinagar         5074\n",
       "Mumbai           4966\n",
       "Indore           4872\n",
       "Agra             4684\n",
       "Surat            4636\n",
       "Varanasi         4606\n",
       "Vadodara         4568\n",
       "Hyderabad        4496\n",
       "Kanpur           4398\n",
       "Jaipur           4328\n",
       "Thane            4289\n",
       "Lucknow          4280\n",
       "Nagpur           4209\n",
       "Bangalore        4123\n",
       "Chennai          4044\n",
       "Ghaziabad        3620\n",
       "Delhi            3593\n",
       "Bhopal           3475\n",
       "Faridabad        3268\n",
       "Nashik           3144\n",
       "Name: City, dtype: int64"
      ]
     },
     "execution_count": 6,
     "metadata": {},
     "output_type": "execute_result"
    }
   ],
   "source": [
    "outlier_threshold=10\n",
    "outliers=frequency[frequency<=outlier_threshold].index\n",
    "dataset[\"City\"]=dataset[\"City\"].replace(outliers,dataset[\"City\"].mode()[0])\n",
    "dataset[\"City\"].value_counts()"
   ]
  },
  {
   "cell_type": "code",
   "execution_count": 7,
   "id": "0796a6ae",
   "metadata": {},
   "outputs": [],
   "source": [
    "City_mapping =  {\"Kalyan\":1,\"Patna\":2,\"Vasai-Virar\":3,\"Kolkata\":4,\"Ahmedabad\":5,\"Meerut\":6,\n",
    "                 \"Ludhiana\":7,\"Pune\":8,\"Rajkot\":9,\"Visakhapatnam\":10,\"Srinagar\":11,\n",
    "                 \"Mumbai\":12,\"Indore\":13,\"Agra\":14,\"Surat\":15,\"Varanasi\":16,\"Vadodara\":17,\n",
    "                 \"Hyderabad\":18,\"Kanpur\":19,\"Jaipur\":20,\"Thane\":21,\"Lucknow\":22,\"Nagpur\":23,\n",
    "                 \"Bangalore\":24,\"Chennai\":25,\"Ghaziabad\":26,\"Delhi\":27,\"Bhopal\":28,\n",
    "                 \"Faridabad\":29,\"Nashik\":30}\n",
    "dataset['City_numeric'] = dataset['City'].map(City_mapping)\n",
    "dataset=dataset.drop(columns=['City'],axis=1)\n",
    "\n",
    "\n"
   ]
  },
  {
   "cell_type": "code",
   "execution_count": 8,
   "id": "1c535567",
   "metadata": {},
   "outputs": [
    {
     "data": {
      "text/plain": [
       "36630"
      ]
     },
     "execution_count": 8,
     "metadata": {},
     "output_type": "execute_result"
    }
   ],
   "source": [
    "dataset=dataset.drop(columns=[\"Working Professional or Student\"],axis=1)\n",
    "dataset[\"Profession\"].isnull().sum()"
   ]
  },
  {
   "cell_type": "code",
   "execution_count": 9,
   "id": "e8fc675e",
   "metadata": {},
   "outputs": [
    {
     "data": {
      "text/plain": [
       "'Student'"
      ]
     },
     "execution_count": 9,
     "metadata": {},
     "output_type": "execute_result"
    }
   ],
   "source": [
    "dataset[\"Profession\"]=dataset[\"Profession\"].fillna(\"Student\")\n",
    "frequency1=dataset['Profession'].value_counts()\n",
    "dataset['Profession'].mode()[0]"
   ]
  },
  {
   "cell_type": "code",
   "execution_count": 10,
   "id": "5bbba8e4",
   "metadata": {},
   "outputs": [
    {
     "data": {
      "text/plain": [
       "Index(['Academic', 'Unemployed', 'Yogesh', 'Profession', 'BCA', 'MBA', 'LLM',\n",
       "       'PhD', 'Analyst', 'Patna', 'Pranav', 'Visakhapatnam', 'M.Ed',\n",
       "       'Moderate', 'Nagpur', 'B.Ed', 'Unveil', 'BBA', 'MBBS',\n",
       "       'Working Professional', 'Medical Doctor', 'City Manager', 'FamilyVirar',\n",
       "       'Dev', 'BE', 'B.Com', 'Family Consultant', 'Yuvraj'],\n",
       "      dtype='object')"
      ]
     },
     "execution_count": 10,
     "metadata": {},
     "output_type": "execute_result"
    }
   ],
   "source": [
    "prof_outlier_threshold = 10\n",
    "prof_outliers = frequency1[frequency1 <= prof_outlier_threshold].index\n",
    "prof_outliers"
   ]
  },
  {
   "cell_type": "code",
   "execution_count": 11,
   "id": "804bef6f",
   "metadata": {},
   "outputs": [
    {
     "data": {
      "text/plain": [
       "array(['Chef', 'Teacher', 'Student', 'Business Analyst',\n",
       "       'Finanancial Analyst', 'Chemist', 'Electrician',\n",
       "       'Software Engineer', 'Data Scientist', 'Plumber',\n",
       "       'Marketing Manager', 'Accountant', 'Entrepreneur', 'HR Manager',\n",
       "       'UX/UI Designer', 'Content Writer', 'Educational Consultant',\n",
       "       'Civil Engineer', 'Manager', 'Pharmacist', 'Financial Analyst',\n",
       "       'Architect', 'Mechanical Engineer', 'Customer Support',\n",
       "       'Consultant', 'Judge', 'Researcher', 'Pilot', 'Graphic Designer',\n",
       "       'Travel Consultant', 'Digital Marketer', 'Lawyer',\n",
       "       'Research Analyst', 'Sales Executive', 'Doctor',\n",
       "       'Investment Banker'], dtype=object)"
      ]
     },
     "execution_count": 11,
     "metadata": {},
     "output_type": "execute_result"
    }
   ],
   "source": [
    "dataset['Profession_cleaned'] = dataset['Profession'].replace(prof_outliers, dataset['Profession'].mode()[0])\n",
    "dataset['Profession_cleaned'].unique()"
   ]
  },
  {
   "cell_type": "code",
   "execution_count": 12,
   "id": "21eb06ce",
   "metadata": {},
   "outputs": [],
   "source": [
    "dataset['Profession_cleaned']=dataset['Profession_cleaned'].replace(\"Finanancial Analyst\",'Financial Analyst')"
   ]
  },
  {
   "cell_type": "code",
   "execution_count": 13,
   "id": "9533af1b",
   "metadata": {},
   "outputs": [
    {
     "data": {
      "text/plain": [
       "Student                   36680\n",
       "Teacher                   24906\n",
       "Content Writer             7814\n",
       "Architect                  4370\n",
       "Consultant                 4229\n",
       "HR Manager                 4022\n",
       "Pharmacist                 3893\n",
       "Doctor                     3255\n",
       "Business Analyst           3161\n",
       "Entrepreneur               2968\n",
       "Chemist                    2967\n",
       "Financial Analyst          2903\n",
       "Chef                       2862\n",
       "Educational Consultant     2852\n",
       "Data Scientist             2390\n",
       "Researcher                 2328\n",
       "Lawyer                     2212\n",
       "Customer Support           2055\n",
       "Marketing Manager          1976\n",
       "Pilot                      1913\n",
       "Travel Consultant          1860\n",
       "Plumber                    1748\n",
       "Sales Executive            1739\n",
       "Manager                    1737\n",
       "Judge                      1712\n",
       "Electrician                1582\n",
       "Software Engineer          1510\n",
       "Civil Engineer             1470\n",
       "UX/UI Designer             1452\n",
       "Digital Marketer           1372\n",
       "Accountant                 1339\n",
       "Mechanical Engineer        1177\n",
       "Graphic Designer           1163\n",
       "Research Analyst            690\n",
       "Investment Banker           393\n",
       "Name: Profession_cleaned, dtype: int64"
      ]
     },
     "execution_count": 13,
     "metadata": {},
     "output_type": "execute_result"
    }
   ],
   "source": [
    "dataset['Profession_cleaned'].value_counts()"
   ]
  },
  {
   "cell_type": "code",
   "execution_count": 14,
   "id": "85273d2e",
   "metadata": {},
   "outputs": [],
   "source": [
    "Occupation_mapping = {\n",
    "    \"Student\": 1,\n",
    "    \"Teacher\": 2,\n",
    "    \"Content Writer\": 3,\n",
    "    \"Architect\": 4,\n",
    "    \"Consultant\": 5,\n",
    "    \"HR Manager\": 6,\n",
    "    \"Pharmacist\": 7,\n",
    "    \"Doctor\": 8,\n",
    "    \"Business Analyst\": 9,\n",
    "    \"Entrepreneur\": 10,\n",
    "    \"Chemist\": 11,\n",
    "    \"Financial Analyst\": 12,\n",
    "    \"Chef\": 13,\n",
    "    \"Educational Consultant\": 14,\n",
    "    \"Data Scientist\": 15,\n",
    "    \"Researcher\": 16,\n",
    "    \"Lawyer\": 17,\n",
    "    \"Customer Support\": 18,\n",
    "    \"Marketing Manager\": 19,\n",
    "    \"Pilot\": 20,\n",
    "    \"Travel Consultant\": 21,\n",
    "    \"Plumber\": 22,\n",
    "    \"Sales Executive\": 23,\n",
    "    \"Manager\": 24,\n",
    "    \"Judge\": 25,\n",
    "    \"Electrician\": 26,\n",
    "    \"Software Engineer\": 27,\n",
    "    \"Civil Engineer\": 28,\n",
    "    \"UX/UI Designer\": 29,\n",
    "    \"Digital Marketer\": 30,\n",
    "    \"Accountant\": 31,\n",
    "    \"Mechanical Engineer\": 32,\n",
    "    \"Graphic Designer\": 33,\n",
    "    \"Research Analyst\": 34,\n",
    "    \"Investment Banker\": 35\n",
    "}\n",
    "\n",
    "dataset['Profession_numeric'] = dataset['Profession_cleaned'].map(Occupation_mapping )\n",
    "dataset=dataset.drop(columns=['Profession_cleaned'],axis=1)\n",
    "dataset=dataset.drop(columns=['Profession'],axis=1)"
   ]
  },
  {
   "cell_type": "code",
   "execution_count": 15,
   "id": "fd7f9581",
   "metadata": {},
   "outputs": [
    {
     "data": {
      "text/html": [
       "<div>\n",
       "<style scoped>\n",
       "    .dataframe tbody tr th:only-of-type {\n",
       "        vertical-align: middle;\n",
       "    }\n",
       "\n",
       "    .dataframe tbody tr th {\n",
       "        vertical-align: top;\n",
       "    }\n",
       "\n",
       "    .dataframe thead th {\n",
       "        text-align: right;\n",
       "    }\n",
       "</style>\n",
       "<table border=\"1\" class=\"dataframe\">\n",
       "  <thead>\n",
       "    <tr style=\"text-align: right;\">\n",
       "      <th></th>\n",
       "      <th>id</th>\n",
       "      <th>Name</th>\n",
       "      <th>Age</th>\n",
       "      <th>CGPA</th>\n",
       "      <th>Sleep Duration</th>\n",
       "      <th>Dietary Habits</th>\n",
       "      <th>Degree</th>\n",
       "      <th>Have you ever had suicidal thoughts ?</th>\n",
       "      <th>Work/Study Hours</th>\n",
       "      <th>Financial Stress</th>\n",
       "      <th>Family History of Mental Illness</th>\n",
       "      <th>Depression</th>\n",
       "      <th>Gender_numeric</th>\n",
       "      <th>City_numeric</th>\n",
       "      <th>Profession_numeric</th>\n",
       "      <th>Academic/work Pressure</th>\n",
       "      <th>Study/job Satisfaction</th>\n",
       "    </tr>\n",
       "  </thead>\n",
       "  <tbody>\n",
       "    <tr>\n",
       "      <th>0</th>\n",
       "      <td>0</td>\n",
       "      <td>Aaradhya</td>\n",
       "      <td>49.0</td>\n",
       "      <td>NaN</td>\n",
       "      <td>More than 8 hours</td>\n",
       "      <td>Healthy</td>\n",
       "      <td>BHM</td>\n",
       "      <td>No</td>\n",
       "      <td>1.0</td>\n",
       "      <td>2.0</td>\n",
       "      <td>No</td>\n",
       "      <td>0</td>\n",
       "      <td>1</td>\n",
       "      <td>7</td>\n",
       "      <td>13</td>\n",
       "      <td>5.0</td>\n",
       "      <td>2.0</td>\n",
       "    </tr>\n",
       "    <tr>\n",
       "      <th>1</th>\n",
       "      <td>1</td>\n",
       "      <td>Vivan</td>\n",
       "      <td>26.0</td>\n",
       "      <td>NaN</td>\n",
       "      <td>Less than 5 hours</td>\n",
       "      <td>Unhealthy</td>\n",
       "      <td>LLB</td>\n",
       "      <td>Yes</td>\n",
       "      <td>7.0</td>\n",
       "      <td>3.0</td>\n",
       "      <td>No</td>\n",
       "      <td>1</td>\n",
       "      <td>0</td>\n",
       "      <td>16</td>\n",
       "      <td>2</td>\n",
       "      <td>4.0</td>\n",
       "      <td>3.0</td>\n",
       "    </tr>\n",
       "  </tbody>\n",
       "</table>\n",
       "</div>"
      ],
      "text/plain": [
       "   id      Name   Age  CGPA     Sleep Duration Dietary Habits Degree  \\\n",
       "0   0  Aaradhya  49.0   NaN  More than 8 hours        Healthy    BHM   \n",
       "1   1     Vivan  26.0   NaN  Less than 5 hours      Unhealthy    LLB   \n",
       "\n",
       "  Have you ever had suicidal thoughts ?  Work/Study Hours  Financial Stress  \\\n",
       "0                                    No               1.0               2.0   \n",
       "1                                   Yes               7.0               3.0   \n",
       "\n",
       "  Family History of Mental Illness  Depression  Gender_numeric  City_numeric  \\\n",
       "0                               No           0               1             7   \n",
       "1                               No           1               0            16   \n",
       "\n",
       "   Profession_numeric  Academic/work Pressure  Study/job Satisfaction  \n",
       "0                  13                     5.0                     2.0  \n",
       "1                   2                     4.0                     3.0  "
      ]
     },
     "execution_count": 15,
     "metadata": {},
     "output_type": "execute_result"
    }
   ],
   "source": [
    "dataset['Academic/work Pressure'] = dataset['Academic Pressure'].fillna(dataset['Work Pressure'])\n",
    "dataset['Study/job Satisfaction'] = dataset['Study Satisfaction'].fillna(dataset['Job Satisfaction'])\n",
    "dataset=dataset.drop(columns=['Academic Pressure','Work Pressure','Study Satisfaction','Job Satisfaction'], axis=1)\n",
    "dataset.head(2)"
   ]
  },
  {
   "cell_type": "code",
   "execution_count": 16,
   "id": "7a9436e0",
   "metadata": {},
   "outputs": [
    {
     "data": {
      "text/html": [
       "<div>\n",
       "<style scoped>\n",
       "    .dataframe tbody tr th:only-of-type {\n",
       "        vertical-align: middle;\n",
       "    }\n",
       "\n",
       "    .dataframe tbody tr th {\n",
       "        vertical-align: top;\n",
       "    }\n",
       "\n",
       "    .dataframe thead th {\n",
       "        text-align: right;\n",
       "    }\n",
       "</style>\n",
       "<table border=\"1\" class=\"dataframe\">\n",
       "  <thead>\n",
       "    <tr style=\"text-align: right;\">\n",
       "      <th></th>\n",
       "      <th>id</th>\n",
       "      <th>Name</th>\n",
       "      <th>Age</th>\n",
       "      <th>CGPA</th>\n",
       "      <th>Sleep Duration</th>\n",
       "      <th>Dietary Habits</th>\n",
       "      <th>Degree</th>\n",
       "      <th>Have you ever had suicidal thoughts ?</th>\n",
       "      <th>Work/Study Hours</th>\n",
       "      <th>Financial Stress</th>\n",
       "      <th>Family History of Mental Illness</th>\n",
       "      <th>Depression</th>\n",
       "      <th>Gender_numeric</th>\n",
       "      <th>City_numeric</th>\n",
       "      <th>Profession_numeric</th>\n",
       "      <th>Academic/work Pressure</th>\n",
       "      <th>Study/job Satisfaction</th>\n",
       "    </tr>\n",
       "  </thead>\n",
       "  <tbody>\n",
       "    <tr>\n",
       "      <th>0</th>\n",
       "      <td>0</td>\n",
       "      <td>Aaradhya</td>\n",
       "      <td>49.0</td>\n",
       "      <td>0.0</td>\n",
       "      <td>More than 8 hours</td>\n",
       "      <td>Healthy</td>\n",
       "      <td>BHM</td>\n",
       "      <td>No</td>\n",
       "      <td>1.0</td>\n",
       "      <td>2.0</td>\n",
       "      <td>No</td>\n",
       "      <td>0</td>\n",
       "      <td>1</td>\n",
       "      <td>7</td>\n",
       "      <td>13</td>\n",
       "      <td>5.0</td>\n",
       "      <td>2.0</td>\n",
       "    </tr>\n",
       "    <tr>\n",
       "      <th>1</th>\n",
       "      <td>1</td>\n",
       "      <td>Vivan</td>\n",
       "      <td>26.0</td>\n",
       "      <td>0.0</td>\n",
       "      <td>Less than 5 hours</td>\n",
       "      <td>Unhealthy</td>\n",
       "      <td>LLB</td>\n",
       "      <td>Yes</td>\n",
       "      <td>7.0</td>\n",
       "      <td>3.0</td>\n",
       "      <td>No</td>\n",
       "      <td>1</td>\n",
       "      <td>0</td>\n",
       "      <td>16</td>\n",
       "      <td>2</td>\n",
       "      <td>4.0</td>\n",
       "      <td>3.0</td>\n",
       "    </tr>\n",
       "  </tbody>\n",
       "</table>\n",
       "</div>"
      ],
      "text/plain": [
       "   id      Name   Age  CGPA     Sleep Duration Dietary Habits Degree  \\\n",
       "0   0  Aaradhya  49.0   0.0  More than 8 hours        Healthy    BHM   \n",
       "1   1     Vivan  26.0   0.0  Less than 5 hours      Unhealthy    LLB   \n",
       "\n",
       "  Have you ever had suicidal thoughts ?  Work/Study Hours  Financial Stress  \\\n",
       "0                                    No               1.0               2.0   \n",
       "1                                   Yes               7.0               3.0   \n",
       "\n",
       "  Family History of Mental Illness  Depression  Gender_numeric  City_numeric  \\\n",
       "0                               No           0               1             7   \n",
       "1                               No           1               0            16   \n",
       "\n",
       "   Profession_numeric  Academic/work Pressure  Study/job Satisfaction  \n",
       "0                  13                     5.0                     2.0  \n",
       "1                   2                     4.0                     3.0  "
      ]
     },
     "execution_count": 16,
     "metadata": {},
     "output_type": "execute_result"
    }
   ],
   "source": [
    "dataset['CGPA']=dataset['CGPA'].fillna(0)\n",
    "dataset.head(2)"
   ]
  },
  {
   "cell_type": "code",
   "execution_count": 17,
   "id": "0ed6e1f6",
   "metadata": {},
   "outputs": [
    {
     "data": {
      "text/plain": [
       "Less than 5 hours    38784\n",
       "7-8 hours            36969\n",
       "More than 8 hours    32726\n",
       "5-6 hours            32142\n",
       "3-4 hours               12\n",
       "6-7 hours                8\n",
       "4-5 hours                7\n",
       "2-3 hours                5\n",
       "4-6 hours                5\n",
       "6-8 hours                4\n",
       "1-6 hours                4\n",
       "No                       4\n",
       "9-11 hours               2\n",
       "10-11 hours              2\n",
       "Sleep_Duration           2\n",
       "Unhealthy                2\n",
       "45                       2\n",
       "8-9 hours                2\n",
       "10-6 hours               1\n",
       "9-5                      1\n",
       "45-48 hours              1\n",
       "3-6 hours                1\n",
       "Work_Study_Hours         1\n",
       "49 hours                 1\n",
       "than 5 hours             1\n",
       "Pune                     1\n",
       "9-6 hours                1\n",
       "8 hours                  1\n",
       "35-36 hours              1\n",
       "Indore                   1\n",
       "1-3 hours                1\n",
       "55-66 hours              1\n",
       "Moderate                 1\n",
       "40-45 hours              1\n",
       "1-2 hours                1\n",
       "9-5 hours                1\n",
       "Name: Sleep Duration, dtype: int64"
      ]
     },
     "execution_count": 17,
     "metadata": {},
     "output_type": "execute_result"
    }
   ],
   "source": [
    "dataset['Sleep Duration'].value_counts()"
   ]
  },
  {
   "cell_type": "code",
   "execution_count": 18,
   "id": "f609267e",
   "metadata": {},
   "outputs": [
    {
     "data": {
      "text/html": [
       "<div>\n",
       "<style scoped>\n",
       "    .dataframe tbody tr th:only-of-type {\n",
       "        vertical-align: middle;\n",
       "    }\n",
       "\n",
       "    .dataframe tbody tr th {\n",
       "        vertical-align: top;\n",
       "    }\n",
       "\n",
       "    .dataframe thead th {\n",
       "        text-align: right;\n",
       "    }\n",
       "</style>\n",
       "<table border=\"1\" class=\"dataframe\">\n",
       "  <thead>\n",
       "    <tr style=\"text-align: right;\">\n",
       "      <th></th>\n",
       "      <th>id</th>\n",
       "      <th>Name</th>\n",
       "      <th>Age</th>\n",
       "      <th>CGPA</th>\n",
       "      <th>Sleep Duration</th>\n",
       "      <th>Dietary Habits</th>\n",
       "      <th>Degree</th>\n",
       "      <th>Have you ever had suicidal thoughts ?</th>\n",
       "      <th>Work/Study Hours</th>\n",
       "      <th>Financial Stress</th>\n",
       "      <th>Family History of Mental Illness</th>\n",
       "      <th>Depression</th>\n",
       "      <th>Gender_numeric</th>\n",
       "      <th>City_numeric</th>\n",
       "      <th>Profession_numeric</th>\n",
       "      <th>Academic/work Pressure</th>\n",
       "      <th>Study/job Satisfaction</th>\n",
       "      <th>sleep_duration_numeric</th>\n",
       "    </tr>\n",
       "  </thead>\n",
       "  <tbody>\n",
       "    <tr>\n",
       "      <th>0</th>\n",
       "      <td>0</td>\n",
       "      <td>Aaradhya</td>\n",
       "      <td>49.0</td>\n",
       "      <td>0.0</td>\n",
       "      <td>More than 8 hours</td>\n",
       "      <td>Healthy</td>\n",
       "      <td>BHM</td>\n",
       "      <td>No</td>\n",
       "      <td>1.0</td>\n",
       "      <td>2.0</td>\n",
       "      <td>No</td>\n",
       "      <td>0</td>\n",
       "      <td>1</td>\n",
       "      <td>7</td>\n",
       "      <td>13</td>\n",
       "      <td>5.0</td>\n",
       "      <td>2.0</td>\n",
       "      <td>9.0</td>\n",
       "    </tr>\n",
       "    <tr>\n",
       "      <th>1</th>\n",
       "      <td>1</td>\n",
       "      <td>Vivan</td>\n",
       "      <td>26.0</td>\n",
       "      <td>0.0</td>\n",
       "      <td>Less than 5 hours</td>\n",
       "      <td>Unhealthy</td>\n",
       "      <td>LLB</td>\n",
       "      <td>Yes</td>\n",
       "      <td>7.0</td>\n",
       "      <td>3.0</td>\n",
       "      <td>No</td>\n",
       "      <td>1</td>\n",
       "      <td>0</td>\n",
       "      <td>16</td>\n",
       "      <td>2</td>\n",
       "      <td>4.0</td>\n",
       "      <td>3.0</td>\n",
       "      <td>4.0</td>\n",
       "    </tr>\n",
       "  </tbody>\n",
       "</table>\n",
       "</div>"
      ],
      "text/plain": [
       "   id      Name   Age  CGPA     Sleep Duration Dietary Habits Degree  \\\n",
       "0   0  Aaradhya  49.0   0.0  More than 8 hours        Healthy    BHM   \n",
       "1   1     Vivan  26.0   0.0  Less than 5 hours      Unhealthy    LLB   \n",
       "\n",
       "  Have you ever had suicidal thoughts ?  Work/Study Hours  Financial Stress  \\\n",
       "0                                    No               1.0               2.0   \n",
       "1                                   Yes               7.0               3.0   \n",
       "\n",
       "  Family History of Mental Illness  Depression  Gender_numeric  City_numeric  \\\n",
       "0                               No           0               1             7   \n",
       "1                               No           1               0            16   \n",
       "\n",
       "   Profession_numeric  Academic/work Pressure  Study/job Satisfaction  \\\n",
       "0                  13                     5.0                     2.0   \n",
       "1                   2                     4.0                     3.0   \n",
       "\n",
       "   sleep_duration_numeric  \n",
       "0                     9.0  \n",
       "1                     4.0  "
      ]
     },
     "execution_count": 18,
     "metadata": {},
     "output_type": "execute_result"
    }
   ],
   "source": [
    "def clean_sleep_duration(value):\n",
    "    try:\n",
    "        value = value.lower().replace(\"hours\", \"\").replace(\"hour\", \"\").strip()\n",
    "        \n",
    "        # Handle \"Less than\" and \"More than\" phrases\n",
    "        if \"less than\" in value:\n",
    "            return 4  # Approximate value for \"Less than 5 hours\"\n",
    "        elif \"more than\" in value:\n",
    "            return 9  # Approximate value for \"More than 8 hours\"\n",
    "        \n",
    "        # Handle ranges by calculating the average\n",
    "        if '-' in value:\n",
    "            start, end = map(int, value.split('-'))\n",
    "            avg_value = (start + end) / 2\n",
    "            return avg_value if 3 <= avg_value <= 12 else None  # Only realistic sleep durations\n",
    "        \n",
    "        # Handle single numbers (like \"8\")\n",
    "        elif value.isdigit():\n",
    "            hours = int(value)\n",
    "            return hours if 3 <= hours <= 12 else None  # Only keep realistic values\n",
    "        \n",
    "    except ValueError:\n",
    "        return None  # Return None for invalid entries\n",
    "     # Return None for clearly unrelated entries (e.g., 'No', 'Unhealthy', city names)\n",
    "    return None\n",
    "\n",
    "# Step 2: Apply cleaning function to the column\n",
    "dataset['sleep_duration_numeric'] = dataset['Sleep Duration'].apply(clean_sleep_duration)\n",
    "\n",
    "# Step 3: Replace None values (irrelevant entries) with the mode of valid entries\n",
    "mode_value = dataset['sleep_duration_numeric'].mode()[0]\n",
    "dataset['sleep_duration_numeric']=dataset['sleep_duration_numeric'].fillna(mode_value)\n",
    "\n",
    "dataset.head(2)"
   ]
  },
  {
   "cell_type": "code",
   "execution_count": 19,
   "id": "66f63b18",
   "metadata": {},
   "outputs": [],
   "source": [
    "dataset=dataset.drop(columns=['Sleep Duration'],axis=1)"
   ]
  },
  {
   "cell_type": "code",
   "execution_count": 20,
   "id": "fad531e8",
   "metadata": {},
   "outputs": [
    {
     "data": {
      "text/plain": [
       "Moderate             49705\n",
       "Unhealthy            46227\n",
       "Healthy              44741\n",
       "Yes                      2\n",
       "No                       2\n",
       "More Healthy             2\n",
       "No Healthy               1\n",
       "Class 12                 1\n",
       "Indoor                   1\n",
       "Male                     1\n",
       "Vegas                    1\n",
       "M.Tech                   1\n",
       "Less Healthy             1\n",
       "1.0                      1\n",
       "Electrician              1\n",
       "Hormonal                 1\n",
       "Mihir                    1\n",
       "Less than Healthy        1\n",
       "3                        1\n",
       "Gender                   1\n",
       "BSc                      1\n",
       "Pratham                  1\n",
       "2                        1\n",
       "Name: Dietary Habits, dtype: int64"
      ]
     },
     "execution_count": 20,
     "metadata": {},
     "output_type": "execute_result"
    }
   ],
   "source": [
    "# CLEANING \"DIETARY HABITS COLUMN\"\n",
    "dataset['Dietary Habits'].value_counts()"
   ]
  },
  {
   "cell_type": "code",
   "execution_count": 21,
   "id": "67c294dd",
   "metadata": {},
   "outputs": [],
   "source": [
    "# DEFINING VALID CATEGORIES\n",
    "valid_categories = ['Moderate', 'Unhealthy', 'Healthy']\n",
    "\n",
    "# Step 2: Replace invalid entries with the mode of valid categories\n",
    "mode_value = dataset['Dietary Habits'][dataset['Dietary Habits'].isin(valid_categories)].mode()[0]\n",
    "\n",
    "dataset['Dietary Habits_cleaned'] = dataset['Dietary Habits'].apply(lambda x: x if x in valid_categories else mode_value)\n",
    "\n",
    "# Apply the mapping to convert to numeric values\n",
    "Dietary_Habits_mapping = {'Unhealthy': 0, 'Moderate': 1, 'Healthy': 2}\n",
    "dataset['Dietary_Habits_numeric'] = dataset['Dietary Habits_cleaned'].map(Dietary_Habits_mapping)\n",
    "dataset=dataset.drop(columns=['Dietary Habits','Dietary Habits_cleaned'],axis=1)"
   ]
  },
  {
   "cell_type": "code",
   "execution_count": 22,
   "id": "19f0f624",
   "metadata": {},
   "outputs": [
    {
     "data": {
      "text/plain": [
       "array(['BHM', 'LLB', 'B.Pharm', 'BBA', 'MCA', 'MD', 'BSc', 'ME', 'B.Arch',\n",
       "       'BCA', 'BE', 'MA', 'B.Ed', 'B.Com', 'MBA', 'M.Com', 'MHM', 'BA',\n",
       "       'Class 12', 'M.Tech', 'PhD', 'M.Ed', 'MSc', 'B.Tech', 'LLM',\n",
       "       'MBBS', 'M.Pharm', 'UX/UI Designer', 'MPA', 'BH', 'Nalini', 'BEd',\n",
       "       'B.Sc', 'Veda', 'Bhopal', 'S.Tech', 'Degree', '20', 'Class 11',\n",
       "       'H_Pharm', 'M', 'P.Com', 'BPharm', 'Business Analyst', 'M.Arch',\n",
       "       'LL.Com', 'Data Scientist', 'MPharm', 'L.Ed', 'P.Pharm', 'Kalyan',\n",
       "       'Unite', 'BArch', 'HR Manager', 'Badhya', 'S.Pharm', 'LLBA',\n",
       "       'Vrinda', 'M. Business Analyst', 'Bhavesh', '0', 'LLCom', '29',\n",
       "       'MTech', 'Vivaan', 'BPA', 'Plumber', '5.61', 'Brit', 'B.03',\n",
       "       'Ritik', '5.56', 'MEd', 'B', 'B BA', '7.06', 'B.B.Arch', 'ACA',\n",
       "       'Brithika', 'CGPA', '24', 'M_Tech', 'Pihu', 'BB', 'Jhanvi',\n",
       "       'LLTech', 'Aarav', 'Entrepreneur', '8.56', 'LHM', 'Lata', 'S.Arch',\n",
       "       'Marsh', 'HCA', '5.88', 'B.Student', 'LL B.Ed', 'M.S', 'Navya',\n",
       "       'Mahika', nan, 'K.Ed', 'B.3.79', 'Mthanya', 'Working Professional',\n",
       "       'Esha', 'LLS', 'LLEd', 'E.Tech', 'Doctor', 'N.Pharm', 'LCA',\n",
       "       'B B.Com', 'RCA', 'Mihir', 'Advait'], dtype=object)"
      ]
     },
     "execution_count": 22,
     "metadata": {},
     "output_type": "execute_result"
    }
   ],
   "source": [
    "dataset['Degree'].unique()"
   ]
  },
  {
   "cell_type": "code",
   "execution_count": 23,
   "id": "b8ea30a5",
   "metadata": {},
   "outputs": [
    {
     "data": {
      "text/plain": [
       "array(['BHM', 'LLB', 'B.Pharm', 'BBA', 'MCA', 'MD', 'BSc', 'ME', 'B.Arch',\n",
       "       'BCA', 'BE', 'MA', 'B.Ed', 'B.Com', 'MBA', 'M.Com', 'MHM', 'BA',\n",
       "       'Class 12', 'M.Tech', 'PhD', 'M.Ed', 'MSc', 'B.Tech', 'LLM',\n",
       "       'MBBS', 'M.Pharm', 'UX/UI Designer', 'MPA', 'BH', 'Nalini', 'BEd',\n",
       "       'B.Sc', 'Veda', 'Bhopal', 'S.Tech', 'Degree', '20', 'Class 11',\n",
       "       'H_Pharm', 'M', 'P.Com', 'BPharm', 'Business Analyst', 'M.Arch',\n",
       "       'LL.Com', 'Data Scientist', 'MPharm', 'L.Ed', 'P.Pharm', 'Kalyan',\n",
       "       'Unite', 'BArch', 'HR Manager', 'Badhya', 'S.Pharm', 'LLBA',\n",
       "       'Vrinda', 'M. Business Analyst', 'Bhavesh', '0', 'LLCom', '29',\n",
       "       'MTech', 'Vivaan', 'BPA', 'Plumber', '5.61', 'Brit', 'B.03',\n",
       "       'Ritik', '5.56', 'MEd', 'B', 'B BA', '7.06', 'B.B.Arch', 'ACA',\n",
       "       'Brithika', 'CGPA', '24', 'M_Tech', 'Pihu', 'BB', 'Jhanvi',\n",
       "       'LLTech', 'Aarav', 'Entrepreneur', '8.56', 'LHM', 'Lata', 'S.Arch',\n",
       "       'Marsh', 'HCA', '5.88', 'B.Student', 'LL B.Ed', 'M.S', 'Navya',\n",
       "       'Mahika', nan, 'K.Ed', 'B.3.79', 'Mthanya', 'Working Professional',\n",
       "       'Esha', 'LLS', 'LLEd', 'E.Tech', 'Doctor', 'N.Pharm', 'LCA',\n",
       "       'B B.Com', 'RCA', 'Mihir', 'Advait'], dtype=object)"
      ]
     },
     "execution_count": 23,
     "metadata": {},
     "output_type": "execute_result"
    }
   ],
   "source": [
    "# REPLACING MISSPELT CATEGORIES TO VALID CATEGORY:\n",
    "\n",
    "modified_degree = {'ACA': 'MCA', 'MPA': 'MBA','BEd':'B.Ed','B.Sc':'BSc','S.Tech':'B.Tech','H_Pharm':'M.Pharm',\n",
    "                      'P.Com':'B.Com','BPharm':'B.Pharm','LL.Com':'M.Com','MPharm':'M.Pharm','L.Ed':'M.Ed',\n",
    "                     'P.Pharm':'B.Pharm','BArch':'B.Arch','S.Pharm':'M.Pharm','LLBA':'LLB','M. Business Analyst':'MBA',\n",
    "                    'LLCom':'M.Com','MTech':'M.Tech','BPA':'BBA','B.03':'B.Ed','MEd':'M.Ed','B':'BA','B BA':'BBA',\n",
    "                     'B.B.Arch':'B.Arch','M_Tech':'M.Tech','BB':'BBA','LLTech':'M.Tech','S.Arch':'B.Arch','HCA':'MCA',\n",
    "                     'B.Student':'BSc','LL B.Ed':'LLB','M.S':'MSc','K.Ed':'B.Ed','B.3.79':'B.Ed','LLS':'LLB','LLEd':'LLB',\n",
    "                     'E.Tech':'B.Tech','Business Analyst':'MBA','Data Scientist':'MSc','HR Manager':'MBA','Doctor':'MBBS',\n",
    "                     'N.Pharm':'M.Pharm','LCA':'MCA','B B.Com':'B.Com','RCA':'BCA'}\n",
    "dataset['Degree'].map(modified_degree).fillna(dataset['Degree'])\n",
    "dataset['Degree'].unique()"
   ]
  },
  {
   "cell_type": "code",
   "execution_count": 24,
   "id": "057ce614",
   "metadata": {},
   "outputs": [
    {
     "data": {
      "text/plain": [
       "0              BHM\n",
       "1              LLB\n",
       "2          B.Pharm\n",
       "3              BBA\n",
       "4              BBA\n",
       "            ...   \n",
       "140695    Class 12\n",
       "140696      B.Tech\n",
       "140697       B.Com\n",
       "140698    Class 12\n",
       "140699         BCA\n",
       "Name: Degree_cleaned, Length: 140700, dtype: object"
      ]
     },
     "execution_count": 24,
     "metadata": {},
     "output_type": "execute_result"
    }
   ],
   "source": [
    "# FINDING THE OUTLIERS IN \"DEGREE\" COLUMN AND REPLACING THEM WITH UNKNOWN:\n",
    "\n",
    "degree_freq_threshold = 10\n",
    "valid_qualifications = dataset['Degree'].value_counts()[dataset['Degree'].value_counts() > degree_freq_threshold].index.tolist()\n",
    "\n",
    "# Step 1: Define a list of valid educational qualifications:\n",
    "\n",
    "valid_qualifications = ['BHM', 'LLB', 'B.Pharm', 'BBA', 'MCA', 'MD', 'BSc', 'ME', 'B.Arch',\n",
    "    'BCA', 'BE', 'MA', 'B.Ed', 'B.Com', 'MBA', 'M.Com', 'MHM', 'BA',\n",
    "    'Class 12', 'M.Tech', 'PhD', 'M.Ed', 'MSc', 'B.Tech',  'MBBS',\n",
    "    'M.Pharm',  'M.Arch', 'UX/UI Designer','Class 11',\n",
    "    ]\n",
    "\n",
    "# Step 2: Replace any entry not in the valid qualifications list with 'Unknown'\n",
    "dataset['Degree_cleaned'] = dataset['Degree'].apply(lambda x: x if x in valid_qualifications else 'Unknown')\n",
    "\n",
    "# Count the frequency of each category\n",
    "degree_frequency = dataset['Degree_cleaned'].value_counts()\n",
    "\n",
    "# Display categories with low frequency (e.g., frequency <= 10)\n",
    "degree_outliers = degree_frequency[degree_frequency <= 10]\n",
    "\n",
    "\n",
    "degree_outlier_threshold = 10\n",
    "degree_outliers = degree_frequency[degree_frequency <= degree_outlier_threshold].index\n",
    "dataset['Degree_cleaned'].replace(outliers, dataset['Degree'].mode()[0])\n"
   ]
  },
  {
   "cell_type": "code",
   "execution_count": 25,
   "id": "b8d0b28a",
   "metadata": {},
   "outputs": [
    {
     "data": {
      "text/plain": [
       "Class 12          14729\n",
       "B.Ed              11691\n",
       "B.Arch             8742\n",
       "B.Com              8113\n",
       "B.Pharm            5856\n",
       "BCA                5739\n",
       "M.Ed               5668\n",
       "MCA                5234\n",
       "BBA                5030\n",
       "BSc                5027\n",
       "MSc                4879\n",
       "Unknown            4753\n",
       "M.Pharm            4537\n",
       "M.Tech             4475\n",
       "B.Tech             4425\n",
       "LLB                4348\n",
       "BHM                4305\n",
       "MBA                3818\n",
       "BA                 3750\n",
       "ME                 3632\n",
       "MD                 3383\n",
       "MHM                3286\n",
       "BE                 3104\n",
       "PhD                3103\n",
       "M.Com              3094\n",
       "MBBS               3082\n",
       "MA                 2887\n",
       "M.Arch                5\n",
       "UX/UI Designer        4\n",
       "Class 11              1\n",
       "Name: Degree_cleaned, dtype: int64"
      ]
     },
     "execution_count": 25,
     "metadata": {},
     "output_type": "execute_result"
    }
   ],
   "source": [
    "dataset[\"Degree_cleaned\"].value_counts()"
   ]
  },
  {
   "cell_type": "code",
   "execution_count": 26,
   "id": "25842933",
   "metadata": {},
   "outputs": [],
   "source": [
    "Education_mapping = {\n",
    "    \"Class 12\": 1,\n",
    "    \"B.Ed\": 2,\n",
    "    \"B.Arch\": 3,\n",
    "    \"B.Com\": 4,\n",
    "    \"B.Pharm\": 5,\n",
    "    \"BCA\": 6,\n",
    "    \"M.Ed\": 7,\n",
    "    \"MCA\": 8,\n",
    "    \"BBA\": 9,\n",
    "    \"BSc\": 10,\n",
    "    \"MSc\": 11,\n",
    "    \"Unknown\": 12,\n",
    "    \"M.Pharm\": 13,\n",
    "    \"M.Tech\": 14,\n",
    "    \"B.Tech\": 15,\n",
    "    \"LLB\": 16,\n",
    "    \"BHM\": 17,\n",
    "    \"MBA\": 18,\n",
    "    \"BA\": 19,\n",
    "    \"ME\": 20,\n",
    "    \"MD\": 21,\n",
    "    \"MHM\": 22,\n",
    "    \"BE\": 23,\n",
    "    \"PhD\": 24,\n",
    "    \"M.Com\": 25,\n",
    "    \"MBBS\": 26,\n",
    "    \"MA\": 27,\n",
    "    \"M.Arch\": 28,\n",
    "    \"UX/UI Designer\": 29,\n",
    "    \"Class 11\": 30\n",
    "}\n",
    "dataset['Degree_numeric'] = dataset['Degree_cleaned'].map(Education_mapping)\n",
    "dataset=dataset.drop(columns=[\"Degree\",\"Degree_cleaned\"],axis=1)"
   ]
  },
  {
   "cell_type": "code",
   "execution_count": 27,
   "id": "fa560f6a",
   "metadata": {},
   "outputs": [],
   "source": [
    "dataset['Family History of Mental Illness_numeric']=dataset['Family History of Mental Illness'].map({\"No\":0, \"Yes\":1})\n",
    "dataset['Have you ever had suicidal thoughts ?_numeric']=dataset['Have you ever had suicidal thoughts ?'].map({\"No\":0, \"Yes\":1})\n",
    "dataset=dataset.drop(columns=['Family History of Mental Illness','Have you ever had suicidal thoughts ?'],axis=1)\n"
   ]
  },
  {
   "cell_type": "code",
   "execution_count": 28,
   "id": "9a27580e",
   "metadata": {},
   "outputs": [
    {
     "data": {
      "text/plain": [
       "id                                                0\n",
       "Name                                              0\n",
       "Age                                               0\n",
       "CGPA                                              0\n",
       "Work/Study Hours                                  0\n",
       "Financial Stress                                  0\n",
       "Depression                                        0\n",
       "Gender_numeric                                    0\n",
       "City_numeric                                      0\n",
       "Profession_numeric                                0\n",
       "Academic/work Pressure                           21\n",
       "Study/job Satisfaction                           15\n",
       "sleep_duration_numeric                            0\n",
       "Dietary_Habits_numeric                            0\n",
       "Degree_numeric                                    0\n",
       "Family History of Mental Illness_numeric          0\n",
       "Have you ever had suicidal thoughts ?_numeric     0\n",
       "dtype: int64"
      ]
     },
     "execution_count": 28,
     "metadata": {},
     "output_type": "execute_result"
    }
   ],
   "source": [
    "dataset[\"Financial Stress\"]=dataset[\"Financial Stress\"].fillna(dataset[\"Financial Stress\"].mode()[0])\n",
    "dataset.isnull().sum()"
   ]
  },
  {
   "cell_type": "code",
   "execution_count": 29,
   "id": "ff54dada",
   "metadata": {},
   "outputs": [],
   "source": [
    "dataset['Academic/work Pressure']=dataset['Academic/work Pressure'].fillna(dataset['Academic/work Pressure'].mode()[0])\n",
    "dataset['Study/job Satisfaction']=dataset['Study/job Satisfaction'].fillna(dataset['Study/job Satisfaction'].mode()[0])"
   ]
  },
  {
   "cell_type": "code",
   "execution_count": 30,
   "id": "3b9eea7f",
   "metadata": {},
   "outputs": [
    {
     "data": {
      "text/plain": [
       "id                                               0\n",
       "Age                                              0\n",
       "CGPA                                             0\n",
       "Work/Study Hours                                 0\n",
       "Financial Stress                                 0\n",
       "Depression                                       0\n",
       "Gender_numeric                                   0\n",
       "City_numeric                                     0\n",
       "Profession_numeric                               0\n",
       "Academic/work Pressure                           0\n",
       "Study/job Satisfaction                           0\n",
       "sleep_duration_numeric                           0\n",
       "Dietary_Habits_numeric                           0\n",
       "Degree_numeric                                   0\n",
       "Family History of Mental Illness_numeric         0\n",
       "Have you ever had suicidal thoughts ?_numeric    0\n",
       "dtype: int64"
      ]
     },
     "execution_count": 30,
     "metadata": {},
     "output_type": "execute_result"
    }
   ],
   "source": [
    "dataset=dataset.drop(columns=['Name'],axis=1)\n",
    "dataset.isnull().sum()"
   ]
  },
  {
   "cell_type": "code",
   "execution_count": 31,
   "id": "731d528c",
   "metadata": {},
   "outputs": [],
   "source": [
    "#testdata"
   ]
  },
  {
   "cell_type": "code",
   "execution_count": 32,
   "id": "97d8168d",
   "metadata": {},
   "outputs": [],
   "source": [
    "testdata[\"Gender_numeric\"]=testdata[\"Gender\"].map({\"Male\":0,\"Female\":1})\n",
    "testdata=testdata.drop(columns=['Gender'],axis=1)"
   ]
  },
  {
   "cell_type": "code",
   "execution_count": 33,
   "id": "15e791af",
   "metadata": {},
   "outputs": [
    {
     "data": {
      "text/plain": [
       "Kalyan               4387\n",
       "Vasai-Virar          3897\n",
       "Patna                3888\n",
       "Kolkata              3726\n",
       "Ahmedabad            3677\n",
       "                     ... \n",
       "Mhopal                  1\n",
       "Less than 5 hours       1\n",
       "Pratyush                1\n",
       "Malyan                  1\n",
       "No.12                   1\n",
       "Name: City, Length: 68, dtype: int64"
      ]
     },
     "execution_count": 33,
     "metadata": {},
     "output_type": "execute_result"
    }
   ],
   "source": [
    "testdata[\"City\"].value_counts()"
   ]
  },
  {
   "cell_type": "code",
   "execution_count": 34,
   "id": "037ce96d",
   "metadata": {},
   "outputs": [
    {
     "data": {
      "text/plain": [
       "Vidya                4\n",
       "Siddhesh             3\n",
       "Bhavna               3\n",
       "Vikram               2\n",
       "Keshav               2\n",
       "Nalini               2\n",
       "City                 2\n",
       "Hrithik              2\n",
       "San Vasai-Virar      1\n",
       "Vaikot               1\n",
       "Leela                1\n",
       "Chemist              1\n",
       "Ghopal               1\n",
       "No                   1\n",
       "More Delhi           1\n",
       "Saanvi               1\n",
       "Pratham              1\n",
       "Vidhi                1\n",
       "Abhinav              1\n",
       "Rolkata              1\n",
       "Parth                1\n",
       "Aditi                1\n",
       "Saurav               1\n",
       "Sara                 1\n",
       "Less Delhi           1\n",
       "Golkata              1\n",
       "Is Kanpur            1\n",
       "Unaly                1\n",
       "Thani                1\n",
       "Lawyer               1\n",
       "Vaishnavi            1\n",
       "Ira                  1\n",
       "Avni                 1\n",
       "Mhopal               1\n",
       "Less than 5 hours    1\n",
       "Pratyush             1\n",
       "Malyan               1\n",
       "No.12                1\n",
       "Name: City, dtype: int64"
      ]
     },
     "execution_count": 34,
     "metadata": {},
     "output_type": "execute_result"
    }
   ],
   "source": [
    "frequency2=testdata[\"City\"].value_counts()\n",
    "outliers_test=frequency2[frequency2<=10]\n",
    "outliers_test"
   ]
  },
  {
   "cell_type": "code",
   "execution_count": 35,
   "id": "4bbf1bfa",
   "metadata": {},
   "outputs": [
    {
     "data": {
      "text/plain": [
       "'Kalyan'"
      ]
     },
     "execution_count": 35,
     "metadata": {},
     "output_type": "execute_result"
    }
   ],
   "source": [
    "testdata[\"City\"].mode()[0]"
   ]
  },
  {
   "cell_type": "code",
   "execution_count": 36,
   "id": "7187ed0d",
   "metadata": {},
   "outputs": [
    {
     "data": {
      "text/plain": [
       "Kalyan           4437\n",
       "Vasai-Virar      3897\n",
       "Patna            3888\n",
       "Kolkata          3726\n",
       "Ahmedabad        3677\n",
       "Meerut           3661\n",
       "Srinagar         3547\n",
       "Ludhiana         3545\n",
       "Rajkot           3450\n",
       "Visakhapatnam    3416\n",
       "Pune             3318\n",
       "Agra             3189\n",
       "Vadodara         3169\n",
       "Mumbai           3129\n",
       "Hyderabad        3123\n",
       "Surat            3090\n",
       "Varanasi         3052\n",
       "Indore           3040\n",
       "Kanpur           2978\n",
       "Jaipur           2874\n",
       "Lucknow          2860\n",
       "Thane            2835\n",
       "Nagpur           2748\n",
       "Bangalore        2707\n",
       "Chennai          2674\n",
       "Delhi            2536\n",
       "Ghaziabad        2486\n",
       "Bhopal           2370\n",
       "Faridabad        2196\n",
       "Nashik           2182\n",
       "Name: City, dtype: int64"
      ]
     },
     "execution_count": 36,
     "metadata": {},
     "output_type": "execute_result"
    }
   ],
   "source": [
    "outlier_threshold_test=10\n",
    "outliers_tests=frequency2[frequency2<=outlier_threshold_test].index\n",
    "testdata[\"City\"]=testdata[\"City\"].replace(outliers_tests,testdata[\"City\"].mode()[0])\n",
    "testdata[\"City\"].value_counts()"
   ]
  },
  {
   "cell_type": "code",
   "execution_count": 37,
   "id": "5e3c14de",
   "metadata": {},
   "outputs": [],
   "source": [
    "test_City_mapping =  {\"Kalyan\":1,\"Patna\":2,\"Vasai-Virar\":3,\"Kolkata\":4,\"Ahmedabad\":5,\"Meerut\":6,\n",
    "                 \"Ludhiana\":7,\"Pune\":8,\"Rajkot\":9,\"Visakhapatnam\":10,\"Srinagar\":11,\n",
    "                 \"Mumbai\":12,\"Indore\":13,\"Agra\":14,\"Surat\":15,\"Varanasi\":16,\"Vadodara\":17,\n",
    "                 \"Hyderabad\":18,\"Kanpur\":19,\"Jaipur\":20,\"Thane\":21,\"Lucknow\":22,\"Nagpur\":23,\n",
    "                 \"Bangalore\":24,\"Chennai\":25,\"Ghaziabad\":26,\"Delhi\":27,\"Bhopal\":28,\n",
    "                 \"Faridabad\":29,\"Nashik\":30}\n",
    "testdata['City_numeric'] = testdata['City'].map(test_City_mapping)\n",
    "testdata=testdata.drop(columns=['City'],axis=1)"
   ]
  },
  {
   "cell_type": "code",
   "execution_count": 38,
   "id": "4c7dd7f5",
   "metadata": {},
   "outputs": [],
   "source": [
    "testdata=testdata.drop(columns=[\"Working Professional or Student\"],axis=1)"
   ]
  },
  {
   "cell_type": "code",
   "execution_count": 39,
   "id": "7586b7cc",
   "metadata": {},
   "outputs": [
    {
     "data": {
      "text/plain": [
       "24632"
      ]
     },
     "execution_count": 39,
     "metadata": {},
     "output_type": "execute_result"
    }
   ],
   "source": [
    "testdata[\"Profession\"].isnull().sum()"
   ]
  },
  {
   "cell_type": "code",
   "execution_count": 40,
   "id": "ad28e8a9",
   "metadata": {},
   "outputs": [
    {
     "data": {
      "text/plain": [
       "0"
      ]
     },
     "execution_count": 40,
     "metadata": {},
     "output_type": "execute_result"
    }
   ],
   "source": [
    "testdata[\"Profession\"]=testdata[\"Profession\"].fillna(\"Student\")\n",
    "testdata[\"Profession\"].isnull().sum()"
   ]
  },
  {
   "cell_type": "code",
   "execution_count": 41,
   "id": "483f58a2",
   "metadata": {},
   "outputs": [
    {
     "data": {
      "text/plain": [
       "Student           24640\n",
       "Teacher           16385\n",
       "Content Writer     5187\n",
       "Architect          2982\n",
       "Consultant         2920\n",
       "                  ...  \n",
       "24th                  1\n",
       "B.Pharm               1\n",
       "ME                    1\n",
       "3M                    1\n",
       "M.Pharm               1\n",
       "Name: Profession, Length: 64, dtype: int64"
      ]
     },
     "execution_count": 41,
     "metadata": {},
     "output_type": "execute_result"
    }
   ],
   "source": [
    "testdata[\"Profession\"].value_counts()"
   ]
  },
  {
   "cell_type": "code",
   "execution_count": 42,
   "id": "de536dda",
   "metadata": {},
   "outputs": [
    {
     "data": {
      "text/plain": [
       "array(['Judge', 'Educational Consultant', 'Teacher', 'Student',\n",
       "       'Customer Support', 'Chemist', 'Content Writer', 'Consultant',\n",
       "       'HR Manager', 'Research Analyst', 'Digital Marketer',\n",
       "       'Electrician', 'Marketing Manager', 'Plumber', 'Pharmacist',\n",
       "       'Lawyer', 'Pilot', 'Architect', 'Chef', 'Graphic Designer',\n",
       "       'Entrepreneur', 'Manager', 'Mechanical Engineer',\n",
       "       'Software Engineer', 'Travel Consultant', 'Finanancial Analyst',\n",
       "       'Financial Analyst', 'Doctor', 'Business Analyst',\n",
       "       'UX/UI Designer', 'Sales Executive', 'Data Scientist',\n",
       "       'Accountant', 'Researcher', 'Civil Engineer', 'Investment Banker',\n",
       "       'Unhealthy', 'B.Ed', 'Working Professional', '3M', 'ME', 'B.Pharm',\n",
       "       '24th', 'Manvi', 'Yogesh', 'Samar', 'Surat', 'PhD', 'M.Ed', 'MD',\n",
       "       'Name', 'MCA', 'Simran', 'Analyst', 'Profession', 'Unemployed',\n",
       "       'BBA', 'M.Tech', 'LLM', 'Surgeon', 'No', 'Unveil',\n",
       "       'City Consultant', 'M.Pharm'], dtype=object)"
      ]
     },
     "execution_count": 42,
     "metadata": {},
     "output_type": "execute_result"
    }
   ],
   "source": [
    "testdata[\"Profession\"].unique()"
   ]
  },
  {
   "cell_type": "code",
   "execution_count": 43,
   "id": "82d07508",
   "metadata": {},
   "outputs": [
    {
     "data": {
      "text/plain": [
       "'Student'"
      ]
     },
     "execution_count": 43,
     "metadata": {},
     "output_type": "execute_result"
    }
   ],
   "source": [
    "testdata[\"Profession\"].mode()[0]"
   ]
  },
  {
   "cell_type": "code",
   "execution_count": 44,
   "id": "f7c0272f",
   "metadata": {},
   "outputs": [
    {
     "data": {
      "text/plain": [
       "Index(['Working Professional', 'Unhealthy', 'B.Ed', 'MD', 'Unemployed',\n",
       "       'Surat', 'BBA', 'Profession', 'Surgeon', 'M.Tech', 'LLM', 'Simran',\n",
       "       'No', 'Unveil', 'City Consultant', 'Analyst', 'M.Ed', 'MCA', 'Name',\n",
       "       'PhD', 'Samar', 'Yogesh', 'Manvi', '24th', 'B.Pharm', 'ME', '3M',\n",
       "       'M.Pharm'],\n",
       "      dtype='object')"
      ]
     },
     "execution_count": 44,
     "metadata": {},
     "output_type": "execute_result"
    }
   ],
   "source": [
    "test_frequency = testdata['Profession'].value_counts()\n",
    "testprof_outliers = test_frequency[test_frequency <= 10]\n",
    "\n",
    "testprof_outlier_threshold = 10\n",
    "testprof_outliers = test_frequency[test_frequency<= testprof_outlier_threshold].index\n",
    "testprof_outliers"
   ]
  },
  {
   "cell_type": "code",
   "execution_count": 45,
   "id": "1858cf1b",
   "metadata": {},
   "outputs": [
    {
     "data": {
      "text/plain": [
       "Student                   24676\n",
       "Teacher                   16385\n",
       "Content Writer             5187\n",
       "Architect                  2982\n",
       "Consultant                 2920\n",
       "Pharmacist                 2656\n",
       "HR Manager                 2601\n",
       "Doctor                     2198\n",
       "Business Analyst           2186\n",
       "Chemist                    1967\n",
       "Entrepreneur               1935\n",
       "Chef                       1844\n",
       "Educational Consultant     1827\n",
       "Data Scientist             1582\n",
       "Lawyer                     1497\n",
       "Researcher                 1496\n",
       "Pilot                      1448\n",
       "Customer Support           1422\n",
       "Marketing Manager          1284\n",
       "Judge                      1189\n",
       "Travel Consultant          1188\n",
       "Manager                    1155\n",
       "Sales Executive            1139\n",
       "Plumber                    1123\n",
       "Electrician                1121\n",
       "Financial Analyst          1048\n",
       "Software Engineer          1002\n",
       "Digital Marketer            942\n",
       "Civil Engineer              938\n",
       "UX/UI Designer              915\n",
       "Finanancial Analyst         894\n",
       "Accountant                  853\n",
       "Mechanical Engineer         800\n",
       "Graphic Designer            720\n",
       "Research Analyst            423\n",
       "Investment Banker           257\n",
       "Name: Profession1, dtype: int64"
      ]
     },
     "execution_count": 45,
     "metadata": {},
     "output_type": "execute_result"
    }
   ],
   "source": [
    "testdata['Profession1'] = testdata['Profession'].replace(testprof_outliers, testdata['Profession'].mode()[0])\n",
    "testdata['Profession1'].value_counts()"
   ]
  },
  {
   "cell_type": "code",
   "execution_count": 46,
   "id": "6f415e79",
   "metadata": {},
   "outputs": [],
   "source": [
    "testdata['Profession2']=testdata['Profession1'].replace(\"Finanancial Analyst\",\"Financial Analyst\")"
   ]
  },
  {
   "cell_type": "code",
   "execution_count": 47,
   "id": "568f02d7",
   "metadata": {},
   "outputs": [
    {
     "data": {
      "text/plain": [
       "Student                   24676\n",
       "Teacher                   16385\n",
       "Content Writer             5187\n",
       "Architect                  2982\n",
       "Consultant                 2920\n",
       "Pharmacist                 2656\n",
       "HR Manager                 2601\n",
       "Doctor                     2198\n",
       "Business Analyst           2186\n",
       "Chemist                    1967\n",
       "Financial Analyst          1942\n",
       "Entrepreneur               1935\n",
       "Chef                       1844\n",
       "Educational Consultant     1827\n",
       "Data Scientist             1582\n",
       "Lawyer                     1497\n",
       "Researcher                 1496\n",
       "Pilot                      1448\n",
       "Customer Support           1422\n",
       "Marketing Manager          1284\n",
       "Judge                      1189\n",
       "Travel Consultant          1188\n",
       "Manager                    1155\n",
       "Sales Executive            1139\n",
       "Plumber                    1123\n",
       "Electrician                1121\n",
       "Software Engineer          1002\n",
       "Digital Marketer            942\n",
       "Civil Engineer              938\n",
       "UX/UI Designer              915\n",
       "Accountant                  853\n",
       "Mechanical Engineer         800\n",
       "Graphic Designer            720\n",
       "Research Analyst            423\n",
       "Investment Banker           257\n",
       "Name: Profession2, dtype: int64"
      ]
     },
     "execution_count": 47,
     "metadata": {},
     "output_type": "execute_result"
    }
   ],
   "source": [
    "testdata['Profession2'].value_counts()"
   ]
  },
  {
   "cell_type": "code",
   "execution_count": 48,
   "id": "f3d6bafb",
   "metadata": {},
   "outputs": [],
   "source": [
    "profession_mapping = {\n",
    "    \"Student\": 1,\n",
    "    \"Teacher\": 2,\n",
    "    \"Content Writer\": 3,\n",
    "    \"Architect\": 4,\n",
    "    \"Consultant\": 5,\n",
    "    \"Pharmacist\": 6,\n",
    "    \"HR Manager\": 7,\n",
    "    \"Doctor\": 8,\n",
    "    \"Business Analyst\": 9,\n",
    "    \"Chemist\": 10,\n",
    "    \"Financial Analyst\": 11,\n",
    "    \"Entrepreneur\": 12,\n",
    "    \"Chef\": 13,\n",
    "    \"Educational Consultant\": 14,\n",
    "    \"Data Scientist\": 15,\n",
    "    \"Lawyer\": 16,\n",
    "    \"Researcher\": 17,\n",
    "    \"Pilot\": 18,\n",
    "    \"Customer Support\": 19,\n",
    "    \"Marketing Manager\": 20,\n",
    "    \"Judge\": 21,\n",
    "    \"Travel Consultant\": 22,\n",
    "    \"Manager\": 23,\n",
    "    \"Sales Executive\": 24,\n",
    "    \"Plumber\": 25,\n",
    "    \"Electrician\": 26,\n",
    "    \"Software Engineer\": 27,\n",
    "    \"Digital Marketer\": 28,\n",
    "    \"Civil Engineer\": 29,\n",
    "    \"UX/UI Designer\": 30,\n",
    "    \"Accountant\": 31,\n",
    "    \"Mechanical Engineer\": 32,\n",
    "    \"Graphic Designer\": 33,\n",
    "    \"Research Analyst\": 34,\n",
    "    \"Investment Banker\": 35\n",
    "}\n",
    "\n",
    "testdata['Profession_numeric'] = testdata['Profession2'].map(profession_mapping)\n",
    "testdata=testdata.drop(columns=['Profession','Profession2','Profession1'],axis=1)"
   ]
  },
  {
   "cell_type": "code",
   "execution_count": 49,
   "id": "eade08d8",
   "metadata": {},
   "outputs": [
    {
     "data": {
      "text/plain": [
       "0"
      ]
     },
     "execution_count": 49,
     "metadata": {},
     "output_type": "execute_result"
    }
   ],
   "source": [
    "testdata[\"Profession_numeric\"].isnull().sum()"
   ]
  },
  {
   "cell_type": "code",
   "execution_count": 50,
   "id": "8e30a178",
   "metadata": {},
   "outputs": [
    {
     "data": {
      "text/html": [
       "<div>\n",
       "<style scoped>\n",
       "    .dataframe tbody tr th:only-of-type {\n",
       "        vertical-align: middle;\n",
       "    }\n",
       "\n",
       "    .dataframe tbody tr th {\n",
       "        vertical-align: top;\n",
       "    }\n",
       "\n",
       "    .dataframe thead th {\n",
       "        text-align: right;\n",
       "    }\n",
       "</style>\n",
       "<table border=\"1\" class=\"dataframe\">\n",
       "  <thead>\n",
       "    <tr style=\"text-align: right;\">\n",
       "      <th></th>\n",
       "      <th>id</th>\n",
       "      <th>Name</th>\n",
       "      <th>Age</th>\n",
       "      <th>Academic Pressure</th>\n",
       "      <th>Work Pressure</th>\n",
       "      <th>CGPA</th>\n",
       "      <th>Study Satisfaction</th>\n",
       "      <th>Job Satisfaction</th>\n",
       "      <th>Sleep Duration</th>\n",
       "      <th>Dietary Habits</th>\n",
       "      <th>Degree</th>\n",
       "      <th>Have you ever had suicidal thoughts ?</th>\n",
       "      <th>Work/Study Hours</th>\n",
       "      <th>Financial Stress</th>\n",
       "      <th>Family History of Mental Illness</th>\n",
       "      <th>Gender_numeric</th>\n",
       "      <th>City_numeric</th>\n",
       "      <th>Profession_numeric</th>\n",
       "    </tr>\n",
       "  </thead>\n",
       "  <tbody>\n",
       "    <tr>\n",
       "      <th>0</th>\n",
       "      <td>140700</td>\n",
       "      <td>Shivam</td>\n",
       "      <td>53.0</td>\n",
       "      <td>NaN</td>\n",
       "      <td>2.0</td>\n",
       "      <td>NaN</td>\n",
       "      <td>NaN</td>\n",
       "      <td>5.0</td>\n",
       "      <td>Less than 5 hours</td>\n",
       "      <td>Moderate</td>\n",
       "      <td>LLB</td>\n",
       "      <td>No</td>\n",
       "      <td>9.0</td>\n",
       "      <td>3.0</td>\n",
       "      <td>Yes</td>\n",
       "      <td>0</td>\n",
       "      <td>10</td>\n",
       "      <td>21</td>\n",
       "    </tr>\n",
       "    <tr>\n",
       "      <th>1</th>\n",
       "      <td>140701</td>\n",
       "      <td>Sanya</td>\n",
       "      <td>58.0</td>\n",
       "      <td>NaN</td>\n",
       "      <td>2.0</td>\n",
       "      <td>NaN</td>\n",
       "      <td>NaN</td>\n",
       "      <td>4.0</td>\n",
       "      <td>Less than 5 hours</td>\n",
       "      <td>Moderate</td>\n",
       "      <td>B.Ed</td>\n",
       "      <td>No</td>\n",
       "      <td>6.0</td>\n",
       "      <td>4.0</td>\n",
       "      <td>No</td>\n",
       "      <td>1</td>\n",
       "      <td>4</td>\n",
       "      <td>14</td>\n",
       "    </tr>\n",
       "  </tbody>\n",
       "</table>\n",
       "</div>"
      ],
      "text/plain": [
       "       id    Name   Age  Academic Pressure  Work Pressure  CGPA  \\\n",
       "0  140700  Shivam  53.0                NaN            2.0   NaN   \n",
       "1  140701   Sanya  58.0                NaN            2.0   NaN   \n",
       "\n",
       "   Study Satisfaction  Job Satisfaction     Sleep Duration Dietary Habits  \\\n",
       "0                 NaN               5.0  Less than 5 hours       Moderate   \n",
       "1                 NaN               4.0  Less than 5 hours       Moderate   \n",
       "\n",
       "  Degree Have you ever had suicidal thoughts ?  Work/Study Hours  \\\n",
       "0    LLB                                    No               9.0   \n",
       "1   B.Ed                                    No               6.0   \n",
       "\n",
       "   Financial Stress Family History of Mental Illness  Gender_numeric  \\\n",
       "0               3.0                              Yes               0   \n",
       "1               4.0                               No               1   \n",
       "\n",
       "   City_numeric  Profession_numeric  \n",
       "0            10                  21  \n",
       "1             4                  14  "
      ]
     },
     "execution_count": 50,
     "metadata": {},
     "output_type": "execute_result"
    }
   ],
   "source": [
    "testdata.head(2)"
   ]
  },
  {
   "cell_type": "code",
   "execution_count": 51,
   "id": "7922f1d2",
   "metadata": {},
   "outputs": [],
   "source": [
    "testdata['Academic/work Pressure'] = testdata['Academic Pressure'].fillna(testdata['Work Pressure'])\n",
    "testdata['Study/job Satisfaction'] = testdata['Study Satisfaction'].fillna(testdata['Job Satisfaction'])\n",
    "testdata=testdata.drop(columns=['Academic Pressure','Work Pressure','Study Satisfaction','Job Satisfaction'], axis=1)\n"
   ]
  },
  {
   "cell_type": "code",
   "execution_count": 52,
   "id": "2913ab36",
   "metadata": {},
   "outputs": [],
   "source": [
    "testdata['CGPA']=testdata['CGPA'].fillna(0)"
   ]
  },
  {
   "cell_type": "code",
   "execution_count": 53,
   "id": "81426327",
   "metadata": {},
   "outputs": [
    {
     "data": {
      "text/plain": [
       "Less than 5 hours                      25661\n",
       "7-8 hours                              24491\n",
       "More than 8 hours                      22190\n",
       "5-6 hours                              21404\n",
       "6-7 hours                                  7\n",
       "8-9 hours                                  6\n",
       "4-5 hours                                  6\n",
       "2-3 hours                                  4\n",
       "3-4 hours                                  3\n",
       "9-5 hours                                  2\n",
       "1-6 hours                                  2\n",
       "9-5                                        2\n",
       "Meerut                                     2\n",
       "4-6 hours                                  2\n",
       "1-2 hours                                  2\n",
       "10-6 hours                                 1\n",
       "9-10 hours                                 1\n",
       "9-11 hours                                 1\n",
       "50-75 hours                                1\n",
       "6 hours                                    1\n",
       "1-3 hours                                  1\n",
       "8-89 hours                                 1\n",
       "20-21 hours                                1\n",
       "Have_you_ever_had_suicidal_thoughts        1\n",
       "60-65 hours                                1\n",
       "9-6 hours                                  1\n",
       "than 5 hours                               1\n",
       "0                                          1\n",
       "Unhealthy                                  1\n",
       "Vivan                                      1\n",
       "3-6 hours                                  1\n",
       "Name: Sleep Duration, dtype: int64"
      ]
     },
     "execution_count": 53,
     "metadata": {},
     "output_type": "execute_result"
    }
   ],
   "source": [
    "testdata['Sleep Duration'].value_counts()"
   ]
  },
  {
   "cell_type": "code",
   "execution_count": 54,
   "id": "cf9ae190",
   "metadata": {},
   "outputs": [],
   "source": [
    "def test_clean_sleep_duration(value):\n",
    "    try:\n",
    "        value = value.lower().replace(\"hours\", \"\").replace(\"hour\", \"\").strip()\n",
    "        \n",
    "        # Handle \"Less than\" and \"More than\" phrases\n",
    "        if \"less than\" in value:\n",
    "            return 4  # Approximate value for \"Less than 5 hours\"\n",
    "        elif \"more than\" in value:\n",
    "            return 9  # Approximate value for \"More than 8 hours\"\n",
    "        \n",
    "        # Handle ranges by calculating the average\n",
    "        if '-' in value:\n",
    "            start, end = map(int, value.split('-'))\n",
    "            avg_value = (start + end) / 2\n",
    "            return avg_value if 3 <= avg_value <= 12 else None  # Only realistic sleep durations\n",
    "        \n",
    "        # Handle single numbers (like \"8\")\n",
    "        elif value.isdigit():\n",
    "            hours = int(value)\n",
    "            return hours if 3 <= hours <= 12 else None  # Only keep realistic values\n",
    "        \n",
    "    except ValueError:\n",
    "        return None  # Return None for invalid entries\n",
    "     # Return None for clearly unrelated entries (e.g., 'No', 'Unhealthy', city names)\n",
    "    return None\n",
    "\n",
    "# Step 2: Apply cleaning function to the column\n",
    "testdata['sleep_duration_numeric'] = testdata['Sleep Duration'].apply(test_clean_sleep_duration)\n",
    "\n",
    "# Step 3: Replace None values (irrelevant entries) with the mode of valid entries\n",
    "test_mode_value = testdata['sleep_duration_numeric'].mode()[0]\n",
    "testdata['sleep_duration_numeric']=testdata['sleep_duration_numeric'].fillna(test_mode_value)\n"
   ]
  },
  {
   "cell_type": "code",
   "execution_count": 55,
   "id": "aaf37860",
   "metadata": {},
   "outputs": [],
   "source": [
    "testdata=testdata.drop(columns=['Sleep Duration'],axis=1)"
   ]
  },
  {
   "cell_type": "code",
   "execution_count": 56,
   "id": "56ced95a",
   "metadata": {},
   "outputs": [
    {
     "data": {
      "text/plain": [
       "Moderate        33018\n",
       "Unhealthy       30786\n",
       "Healthy         29966\n",
       "No                  6\n",
       "More Healthy        2\n",
       "Academic            1\n",
       "Naina               1\n",
       "1.0                 1\n",
       "Raghav              1\n",
       "Vivaan              1\n",
       "5 Unhealthy         1\n",
       "Soham               1\n",
       "Educational         1\n",
       "MCA                 1\n",
       "5 Healthy           1\n",
       "Resistant           1\n",
       "Mealy               1\n",
       "Less Healthy        1\n",
       "Male                1\n",
       "Prachi              1\n",
       "Indoor              1\n",
       "Kolkata             1\n",
       "Name: Dietary Habits, dtype: int64"
      ]
     },
     "execution_count": 56,
     "metadata": {},
     "output_type": "execute_result"
    }
   ],
   "source": [
    "testdata['Dietary Habits'].value_counts()"
   ]
  },
  {
   "cell_type": "code",
   "execution_count": 57,
   "id": "c3f92011",
   "metadata": {},
   "outputs": [],
   "source": [
    "# DEFINING VALID CATEGORIES\n",
    "test_valid_categories = ['Moderate', 'Unhealthy', 'Healthy']\n",
    "\n",
    "# Step 2: Replace invalid entries with the mode of valid categories\n",
    "t_mode_value = testdata['Dietary Habits'][testdata['Dietary Habits'].isin(test_valid_categories)].mode()[0]\n",
    "\n",
    "testdata['Dietary Habits_cleaned'] = testdata['Dietary Habits'].apply(lambda x: x if x in test_valid_categories else t_mode_value)"
   ]
  },
  {
   "cell_type": "code",
   "execution_count": 58,
   "id": "8b639029",
   "metadata": {},
   "outputs": [
    {
     "data": {
      "text/plain": [
       "array(['LLB', 'B.Ed', 'B.Arch', 'BSc', 'BCA', 'B.Com', 'MA', 'BA', 'BBA',\n",
       "       'Class 12', 'MD', 'MBA', 'M.Ed', 'M.Pharm', 'BHM', 'LLM', 'PhD',\n",
       "       'M.Com', 'BE', 'MBBS', 'B.Tech', 'ME', 'MCA', 'B.Pharm', 'MHM',\n",
       "       'M.Tech', 'BTech', 'MSc', 'BArch', 'B. Gender', 'B.Study_Hours',\n",
       "       'Advait', 'M.Arch', 'A.Ed', 'Mechanical Engineer', 'B.H', 'B.Sc',\n",
       "       'B', 'M.UI', 'Vibha', 'B BCA', 'B.Press', 'BPharm', 'Gagan',\n",
       "       'MPharm', 'Travel Consultant', '5.65', 'Business Analyst',\n",
       "       'Eshita', 'B_Com', 'Navya', 'B._Pharm', 'Pune', 'Bian', 'B.M.Com',\n",
       "       'Kavya', 'M.M.Ed', 'S.Pharm', 'Vrinda', 'M', 'E.Ed', '3.0',\n",
       "       'Moham', 'B.BA', nan, 'I.Ed', 'Degree', 'Magan', 'B B.Tech',\n",
       "       'M.B.Ed', 'Bhopal', 'B Financial Analyst', 'GCA', 'G.Ed', 'Rupak',\n",
       "       'RCA', 'B.CA', 'PCA', 'J.Ed', 'BH', 'BEd', '8.95', 'Aadhya', '20',\n",
       "       'Banchal', 'M.', 'K.Ed', 'BHCA'], dtype=object)"
      ]
     },
     "execution_count": 58,
     "metadata": {},
     "output_type": "execute_result"
    }
   ],
   "source": [
    "# Apply the mapping to convert to numeric values\n",
    "test_Dietary_Habits_mapping = {'Unhealthy': 0, 'Moderate': 1, 'Healthy': 2}\n",
    "testdata['Dietary_Habits_numeric'] = testdata['Dietary Habits_cleaned'].map(test_Dietary_Habits_mapping)\n",
    "testdata=testdata.drop(columns=['Dietary Habits','Dietary Habits_cleaned'],axis=1)\n",
    "\n",
    "testdata['Degree'].unique()"
   ]
  },
  {
   "cell_type": "code",
   "execution_count": 59,
   "id": "3194cc0e",
   "metadata": {},
   "outputs": [
    {
     "data": {
      "text/plain": [
       "array(['LLB', 'B.Ed', 'B.Arch', 'BSc', 'BCA', 'B.Com', 'MA', 'BA', 'BBA',\n",
       "       'Class 12', 'MD', 'MBA', 'M.Ed', 'M.Pharm', 'BHM', 'LLM', 'PhD',\n",
       "       'M.Com', 'BE', 'MBBS', 'B.Tech', 'ME', 'MCA', 'B.Pharm', 'MHM',\n",
       "       'M.Tech', 'BTech', 'MSc', 'B. Gender', 'B.Study_Hours', 'Advait',\n",
       "       'M.Arch', 'M.UI', 'Vibha', 'B.Press', 'Gagan', 'Travel Consultant',\n",
       "       '5.65', 'Eshita', 'Navya', 'Pune', 'Kavya', 'Vrinda', '3.0',\n",
       "       'Moham', nan, 'Degree', 'Magan', 'Bhopal', 'BC,A', 'Rupak', '8.95',\n",
       "       'Aadhya', '20', 'Banchal'], dtype=object)"
      ]
     },
     "execution_count": 59,
     "metadata": {},
     "output_type": "execute_result"
    }
   ],
   "source": [
    "# REPLACING MISSPELT CATEGORIES TO VALID CATEGORY:\n",
    "\n",
    "test_modified_degree = {'BHCA': 'MCA','RCA':'BCA','Mechanical Engineer':'B.Tech','BEd':'B.Ed','J.Ed':'B.Ed',\n",
    "                   'G.Ed':'B.Ed','Business Analyst':'MBA','BArch':'B.Arch','B.Sc':'BSc','A.Ed':'B.Ed',\n",
    "                   'B_Com':'B.Com',  'B.CA':'BCA','I.Ed':'B.Ed','BEd':'B.Ed','B Financial Analyst':'BBA',\n",
    "                   'BPharm':'B.Pharm','B._Pharm':'B.Pharm','B B.Tech':'B.Tech','B':'BA','B.BA':'BBA',\n",
    "                   'B.H':'BHM','B BCA':'BCA','MPharm':'M.Pharm','B.M.Com':'M.Com','GCA':'BC,A','M.B.Ed':'M.Ed',\n",
    "                   'S.Pharm':'M.Pharm','M.M.Ed':'M.Ed','E.Ed':'B.Ed','PCA':'BCA','BH':'BHM','M.':'MA','M':'MA',\n",
    "                   'Bian':'BHM','K.Ed':'M.Ed'}\n",
    "\n",
    "testdata['Degree'] = testdata['Degree'].map(test_modified_degree).fillna(testdata['Degree'])\n",
    "testdata['Degree'].unique()"
   ]
  },
  {
   "cell_type": "code",
   "execution_count": 60,
   "id": "437beeb8",
   "metadata": {},
   "outputs": [
    {
     "data": {
      "text/plain": [
       "Class 12    9812\n",
       "B.Ed        7768\n",
       "B.Arch      6038\n",
       "B.Com       5440\n",
       "B.Pharm     3991\n",
       "BCA         3873\n",
       "M.Ed        3710\n",
       "MCA         3439\n",
       "BBA         3389\n",
       "BSc         3318\n",
       "Unknown     3167\n",
       "MSc         3096\n",
       "M.Tech      3017\n",
       "M.Pharm     2999\n",
       "LLB         2938\n",
       "B.Tech      2887\n",
       "BHM         2779\n",
       "BA          2492\n",
       "MBA         2471\n",
       "ME          2391\n",
       "MD          2289\n",
       "BE          2166\n",
       "MHM         2149\n",
       "M.Com       2130\n",
       "PhD         2073\n",
       "MBBS        2033\n",
       "MA          1936\n",
       "M.Arch         9\n",
       "Name: Degree_cleaned, dtype: int64"
      ]
     },
     "execution_count": 60,
     "metadata": {},
     "output_type": "execute_result"
    }
   ],
   "source": [
    "test_degree_freq_threshold = 10\n",
    "test_valid_qualifications = testdata['Degree'].value_counts()[testdata['Degree'].value_counts() > test_degree_freq_threshold].index.tolist()\n",
    "\n",
    "# Step 1: Define a list of valid educational qualifications:\n",
    "\n",
    "test_valid_qualifications = ['BHM', 'LLB', 'B.Pharm', 'BBA', 'MCA', 'MD', 'BSc', 'ME', 'B.Arch',\n",
    "    'BCA', 'BE', 'MA', 'B.Ed', 'B.Com', 'MBA', 'M.Com', 'MHM', 'BA',\n",
    "    'Class 12', 'M.Tech', 'PhD', 'M.Ed', 'MSc', 'B.Tech',  'MBBS',\n",
    "    'M.Pharm',  'M.Arch', 'UX/UI Designer','Class 11',\n",
    "    ]\n",
    "\n",
    "# Step 2: Replace any entry not in the valid qualifications list with 'Unknown'\n",
    "testdata['Degree_cleaned'] = testdata['Degree'].apply(lambda x: x if x in test_valid_qualifications else 'Unknown')\n",
    "\n",
    "# Count the frequency of each category\n",
    "test_degree_frequency = testdata['Degree_cleaned'].value_counts()\n",
    "\n",
    "# Display categories with low frequency (e.g., frequency <= 10)\n",
    "test_degree_outliers = test_degree_frequency[test_degree_frequency <= 10]\n",
    "\n",
    "test_degree_outlier_threshold = 10\n",
    "test_degree_outliers = test_degree_frequency[test_degree_frequency <= test_degree_outlier_threshold].index\n",
    "testdata['Degree_cleaned'].replace(test_degree_outliers, testdata['Degree'].mode()[0])\n",
    "\n",
    "testdata[\"Degree_cleaned\"].value_counts()"
   ]
  },
  {
   "cell_type": "code",
   "execution_count": 61,
   "id": "7a014068",
   "metadata": {},
   "outputs": [],
   "source": [
    "test_Education_mapping = {\n",
    "    \"Class 12\": 1,\n",
    "    \"B.Ed\": 2,\n",
    "    \"B.Arch\": 3,\n",
    "    \"B.Com\": 4,\n",
    "    \"B.Pharm\": 5,\n",
    "    \"BCA\": 6,\n",
    "    \"M.Ed\": 7,\n",
    "    \"MCA\": 8,\n",
    "    \"BBA\": 9,\n",
    "    \"BSc\": 10,\n",
    "    \"MSc\": 11,\n",
    "    \"Unknown\": 12,\n",
    "    \"M.Pharm\": 13,\n",
    "    \"M.Tech\": 14,\n",
    "    \"B.Tech\": 15,\n",
    "    \"LLB\": 16,\n",
    "    \"BHM\": 17,\n",
    "    \"MBA\": 18,\n",
    "    \"BA\": 19,\n",
    "    \"ME\": 20,\n",
    "    \"MD\": 21,\n",
    "    \"MHM\": 22,\n",
    "    \"BE\": 23,\n",
    "    \"PhD\": 24,\n",
    "    \"M.Com\": 25,\n",
    "    \"MBBS\": 26,\n",
    "    \"MA\": 27,\n",
    "    \"M.Arch\": 28,\n",
    "    \"UX/UI Designer\": 29,\n",
    "    \"Class 11\": 30\n",
    "}\n",
    "testdata['Degree_numeric'] = testdata['Degree_cleaned'].map(test_Education_mapping)\n",
    "testdata=testdata.drop(columns=[\"Degree\",\"Degree_cleaned\"],axis=1)"
   ]
  },
  {
   "cell_type": "code",
   "execution_count": 62,
   "id": "07997cc5",
   "metadata": {},
   "outputs": [],
   "source": [
    "testdata['Family History of Mental Illness_numeric']=testdata['Family History of Mental Illness'].map({\"No\":0, \"Yes\":1})\n",
    "testdata['Have you ever had suicidal thoughts ?_numeric']=testdata['Have you ever had suicidal thoughts ?'].map({\"No\":0, \"Yes\":1})\n",
    "testdata=testdata.drop(columns=['Family History of Mental Illness','Have you ever had suicidal thoughts ?'],axis=1)"
   ]
  },
  {
   "cell_type": "code",
   "execution_count": 63,
   "id": "99092bb1",
   "metadata": {},
   "outputs": [
    {
     "data": {
      "text/plain": [
       "id                                                0\n",
       "Name                                              0\n",
       "Age                                               0\n",
       "CGPA                                              0\n",
       "Work/Study Hours                                  0\n",
       "Financial Stress                                  0\n",
       "Gender_numeric                                    0\n",
       "City_numeric                                      0\n",
       "Profession_numeric                                0\n",
       "Academic/work Pressure                           12\n",
       "Study/job Satisfaction                            8\n",
       "sleep_duration_numeric                            0\n",
       "Dietary_Habits_numeric                            0\n",
       "Degree_numeric                                    0\n",
       "Family History of Mental Illness_numeric          0\n",
       "Have you ever had suicidal thoughts ?_numeric     0\n",
       "dtype: int64"
      ]
     },
     "execution_count": 63,
     "metadata": {},
     "output_type": "execute_result"
    }
   ],
   "source": [
    "testdata[\"Financial Stress\"]=testdata[\"Financial Stress\"].fillna(testdata[\"Financial Stress\"].mode()[0])\n",
    "testdata.isnull().sum()"
   ]
  },
  {
   "cell_type": "code",
   "execution_count": 64,
   "id": "844b1048",
   "metadata": {},
   "outputs": [],
   "source": [
    "testdata['Academic/work Pressure']=testdata['Academic/work Pressure'].fillna(testdata['Academic/work Pressure'].mode()[0])\n",
    "testdata['Study/job Satisfaction']=testdata['Study/job Satisfaction'].fillna(testdata['Study/job Satisfaction'].mode()[0])"
   ]
  },
  {
   "cell_type": "code",
   "execution_count": 65,
   "id": "d9b8cb16",
   "metadata": {},
   "outputs": [
    {
     "data": {
      "text/plain": [
       "id                                               0\n",
       "Age                                              0\n",
       "CGPA                                             0\n",
       "Work/Study Hours                                 0\n",
       "Financial Stress                                 0\n",
       "Gender_numeric                                   0\n",
       "City_numeric                                     0\n",
       "Profession_numeric                               0\n",
       "Academic/work Pressure                           0\n",
       "Study/job Satisfaction                           0\n",
       "sleep_duration_numeric                           0\n",
       "Dietary_Habits_numeric                           0\n",
       "Degree_numeric                                   0\n",
       "Family History of Mental Illness_numeric         0\n",
       "Have you ever had suicidal thoughts ?_numeric    0\n",
       "dtype: int64"
      ]
     },
     "execution_count": 65,
     "metadata": {},
     "output_type": "execute_result"
    }
   ],
   "source": [
    "testdata=testdata.drop(columns=['Name'],axis=1)\n",
    "testdata.isnull().sum()"
   ]
  },
  {
   "cell_type": "code",
   "execution_count": 66,
   "id": "dae4770b",
   "metadata": {},
   "outputs": [],
   "source": [
    "testdata[\"Profession_numeric\"]=testdata[\"Profession_numeric\"].fillna(\"Student\")"
   ]
  },
  {
   "cell_type": "code",
   "execution_count": 67,
   "id": "2114f9d4",
   "metadata": {},
   "outputs": [
    {
     "data": {
      "text/plain": [
       "id                                               0\n",
       "Age                                              0\n",
       "CGPA                                             0\n",
       "Work/Study Hours                                 0\n",
       "Financial Stress                                 0\n",
       "Gender_numeric                                   0\n",
       "City_numeric                                     0\n",
       "Profession_numeric                               0\n",
       "Academic/work Pressure                           0\n",
       "Study/job Satisfaction                           0\n",
       "sleep_duration_numeric                           0\n",
       "Dietary_Habits_numeric                           0\n",
       "Degree_numeric                                   0\n",
       "Family History of Mental Illness_numeric         0\n",
       "Have you ever had suicidal thoughts ?_numeric    0\n",
       "dtype: int64"
      ]
     },
     "execution_count": 67,
     "metadata": {},
     "output_type": "execute_result"
    }
   ],
   "source": [
    "testdata.isnull().sum()"
   ]
  },
  {
   "cell_type": "code",
   "execution_count": null,
   "id": "d2aee4c5",
   "metadata": {},
   "outputs": [],
   "source": []
  },
  {
   "cell_type": "code",
   "execution_count": 68,
   "id": "5de63dff",
   "metadata": {},
   "outputs": [],
   "source": [
    "# model building, training,evaluation:"
   ]
  },
  {
   "cell_type": "code",
   "execution_count": 69,
   "id": "9328ffab",
   "metadata": {},
   "outputs": [],
   "source": [
    "x = dataset.drop('Depression', axis=1)\n",
    "y = dataset['Depression']"
   ]
  },
  {
   "cell_type": "code",
   "execution_count": 70,
   "id": "48ea7d33",
   "metadata": {},
   "outputs": [],
   "source": [
    "from sklearn.model_selection import train_test_split\n",
    "from sklearn.preprocessing import StandardScaler\n",
    "from sklearn.linear_model import LogisticRegression\n",
    "from sklearn.tree import DecisionTreeClassifier\n",
    "from sklearn.svm import SVC\n",
    "from sklearn.neighbors import KNeighborsClassifier\n",
    "from sklearn.ensemble import RandomForestClassifier\n",
    "from sklearn.metrics import accuracy_score"
   ]
  },
  {
   "cell_type": "code",
   "execution_count": 71,
   "id": "561a1156",
   "metadata": {},
   "outputs": [],
   "source": [
    "# Step 2: Split the data into training and testing sets (80-20 split)\n",
    "x_train, x_test, y_train, y_test = train_test_split(x, y, test_size=0.2, random_state=42)"
   ]
  },
  {
   "cell_type": "code",
   "execution_count": 72,
   "id": "49097064",
   "metadata": {},
   "outputs": [],
   "source": [
    "# Step 3: Scale the features using StandardScaler\n",
    "scaler = StandardScaler()\n",
    "x_train_scaled = scaler.fit_transform(x_train)\n",
    "x_test_scaled = scaler.transform(x_test)"
   ]
  },
  {
   "cell_type": "code",
   "execution_count": 73,
   "id": "7e4dea7f",
   "metadata": {},
   "outputs": [],
   "source": [
    "classifiers = {\n",
    "    'Logistic Regression': LogisticRegression(),\n",
    "    'Decision Tree': DecisionTreeClassifier(),\n",
    "    'K-Nearest Neighbors': KNeighborsClassifier(),\n",
    "    'Random Forest': RandomForestClassifier(),\n",
    "    'SVM (Linear)': SVC(kernel='linear')\n",
    "}"
   ]
  },
  {
   "cell_type": "code",
   "execution_count": 74,
   "id": "06d32c4b",
   "metadata": {},
   "outputs": [
    {
     "name": "stdout",
     "output_type": "stream",
     "text": [
      "Logistic Regression Accuracy: 0.9357\n",
      "Decision Tree Accuracy: 0.9034\n",
      "K-Nearest Neighbors Accuracy: 0.9276\n",
      "Random Forest Accuracy: 0.9359\n",
      "SVM (Linear) Accuracy: 0.9361\n"
     ]
    }
   ],
   "source": [
    "for name, clf in classifiers.items():\n",
    "    # Train the classifier\n",
    "    clf.fit(x_train_scaled, y_train)\n",
    "    \n",
    "    # Predict on the test set\n",
    "    y_pred = clf.predict(x_test_scaled)\n",
    "    \n",
    "    # Evaluate the accuracy\n",
    "    accuracy = accuracy_score(y_test, y_pred)\n",
    "    print(f'{name} Accuracy: {accuracy:.4f}')"
   ]
  },
  {
   "cell_type": "code",
   "execution_count": 75,
   "id": "340f9060",
   "metadata": {},
   "outputs": [],
   "source": [
    "# working on new test data"
   ]
  },
  {
   "cell_type": "code",
   "execution_count": 76,
   "id": "441f13ef",
   "metadata": {},
   "outputs": [],
   "source": [
    "new_x=testdata"
   ]
  },
  {
   "cell_type": "code",
   "execution_count": 78,
   "id": "8e56583e",
   "metadata": {},
   "outputs": [],
   "source": [
    "new_x_scaled = scaler.transform(new_x)"
   ]
  },
  {
   "cell_type": "code",
   "execution_count": 79,
   "id": "f8b8ff57",
   "metadata": {},
   "outputs": [],
   "source": [
    "test_predictions = pd.DataFrame()"
   ]
  },
  {
   "cell_type": "code",
   "execution_count": 80,
   "id": "da1c18db",
   "metadata": {},
   "outputs": [
    {
     "name": "stdout",
     "output_type": "stream",
     "text": [
      "Predictions on new data:\n",
      "\n",
      "Logistic Regression Predictions: [0 0 0 ... 0 1 0]\n",
      "Decision Tree Predictions: [0 0 1 ... 0 1 0]\n",
      "K-Nearest Neighbors Predictions: [0 0 0 ... 0 1 0]\n",
      "Random Forest Predictions: [0 0 0 ... 0 1 0]\n",
      "SVM (Linear) Predictions: [0 0 0 ... 0 1 0]\n"
     ]
    }
   ],
   "source": [
    "print(\"Predictions on new data:\\n\")\n",
    "for name, clf in classifiers.items():\n",
    "    # Predict on new data\n",
    "    new_y_pred = clf.predict(new_x_scaled)\n",
    "    print(f'{name} Predictions: {new_y_pred}')\n",
    "    \n",
    "test_predictions[\"Predicted Values\"]=new_y_pred\n",
    "new_x['Predictions'] = test_predictions\n",
    "\n",
    "# Save the predictions to an Excel file\n",
    "test_predictions.to_excel('new_predictions.xlsx', index=False)\n",
    "\n",
    "# Or save the complete DataFrame with original data and predictions\n",
    "new_x.to_excel('new_data_with_predictions.xlsx', index=False)"
   ]
  },
  {
   "cell_type": "code",
   "execution_count": 84,
   "id": "8482b275",
   "metadata": {},
   "outputs": [
    {
     "name": "stdout",
     "output_type": "stream",
     "text": [
      "Tuning Logistic Regression...\n",
      "Fitting 5 folds for each of 6 candidates, totalling 30 fits\n",
      "Best Parameters for Logistic Regression: {'C': 0.1, 'solver': 'lbfgs'}\n",
      "Best Cross-Validation Accuracy for Logistic Regression: 0.9370\n",
      "Test Set Accuracy for Logistic Regression: 0.9359\n",
      "\n",
      "Tuning Decision Tree...\n",
      "Fitting 5 folds for each of 27 candidates, totalling 135 fits\n",
      "Best Parameters for Decision Tree: {'max_depth': 10, 'min_samples_leaf': 4, 'min_samples_split': 10}\n",
      "Best Cross-Validation Accuracy for Decision Tree: 0.9288\n",
      "Test Set Accuracy for Decision Tree: 0.9290\n",
      "\n",
      "Tuning K-Nearest Neighbors...\n",
      "Fitting 5 folds for each of 12 candidates, totalling 60 fits\n",
      "Best Parameters for K-Nearest Neighbors: {'metric': 'manhattan', 'n_neighbors': 7, 'weights': 'uniform'}\n",
      "Best Cross-Validation Accuracy for K-Nearest Neighbors: 0.9291\n",
      "Test Set Accuracy for K-Nearest Neighbors: 0.9298\n",
      "\n",
      "Tuning Random Forest...\n",
      "Fitting 5 folds for each of 27 candidates, totalling 135 fits\n",
      "Best Parameters for Random Forest: {'max_depth': None, 'min_samples_split': 10, 'n_estimators': 200}\n",
      "Best Cross-Validation Accuracy for Random Forest: 0.9373\n",
      "Test Set Accuracy for Random Forest: 0.9377\n",
      "\n",
      "Tuning SVM (Linear)...\n",
      "Fitting 5 folds for each of 3 candidates, totalling 15 fits\n",
      "Best Parameters for SVM (Linear): {'C': 0.1}\n",
      "Best Cross-Validation Accuracy for SVM (Linear): 0.9368\n",
      "Test Set Accuracy for SVM (Linear): 0.9362\n",
      "\n",
      "\n",
      "Summary of Results:\n",
      "Logistic Regression:\n",
      "  Best Parameters: {'C': 0.1, 'solver': 'lbfgs'}\n",
      "  Cross-Validation Accuracy: 0.9370\n",
      "  Test Accuracy: 0.9359\n",
      "\n",
      "Decision Tree:\n",
      "  Best Parameters: {'max_depth': 10, 'min_samples_leaf': 4, 'min_samples_split': 10}\n",
      "  Cross-Validation Accuracy: 0.9288\n",
      "  Test Accuracy: 0.9290\n",
      "\n",
      "K-Nearest Neighbors:\n",
      "  Best Parameters: {'metric': 'manhattan', 'n_neighbors': 7, 'weights': 'uniform'}\n",
      "  Cross-Validation Accuracy: 0.9291\n",
      "  Test Accuracy: 0.9298\n",
      "\n",
      "Random Forest:\n",
      "  Best Parameters: {'max_depth': None, 'min_samples_split': 10, 'n_estimators': 200}\n",
      "  Cross-Validation Accuracy: 0.9373\n",
      "  Test Accuracy: 0.9377\n",
      "\n",
      "SVM (Linear):\n",
      "  Best Parameters: {'C': 0.1}\n",
      "  Cross-Validation Accuracy: 0.9368\n",
      "  Test Accuracy: 0.9362\n",
      "\n"
     ]
    }
   ],
   "source": [
    "from sklearn.model_selection import GridSearchCV\n",
    "# Define classifiers and their respective hyperparameter grids\n",
    "models_and_params = {\n",
    "    'Logistic Regression': {\n",
    "        'model': LogisticRegression(max_iter=500, random_state=42),\n",
    "        'params': {\n",
    "            'C': [0.1, 1, 10],\n",
    "            'solver': ['liblinear', 'lbfgs'],\n",
    "        },\n",
    "    },\n",
    "    'Decision Tree': {\n",
    "        'model': DecisionTreeClassifier(random_state=42),\n",
    "        'params': {\n",
    "            'max_depth': [None, 10, 20],\n",
    "            'min_samples_split': [2, 5, 10],\n",
    "            'min_samples_leaf': [1, 2, 4],\n",
    "        },\n",
    "    },\n",
    "    'K-Nearest Neighbors': {\n",
    "        'model': KNeighborsClassifier(),\n",
    "        'params': {\n",
    "            'n_neighbors': [3, 5, 7],\n",
    "            'weights': ['uniform', 'distance'],\n",
    "            'metric': ['euclidean', 'manhattan'],\n",
    "        },\n",
    "    },\n",
    "    'Random Forest': {\n",
    "        'model': RandomForestClassifier(random_state=42),\n",
    "        'params': {\n",
    "            'n_estimators': [50, 100, 200],\n",
    "            'max_depth': [None, 10, 20],\n",
    "            'min_samples_split': [2, 5, 10],\n",
    "        },\n",
    "    },\n",
    "    'SVM (Linear)': {\n",
    "        'model': SVC(kernel='linear', random_state=42),\n",
    "        'params': {\n",
    "            'C': [0.1, 1, 10],\n",
    "        },\n",
    "    },\n",
    "}\n",
    "\n",
    "# Initialize results dictionary\n",
    "results = {}\n",
    "\n",
    "# Automate hyperparameter tuning\n",
    "for name, mp in models_and_params.items():\n",
    "    print(f\"Tuning {name}...\")\n",
    "    grid_search = GridSearchCV(estimator=mp['model'], param_grid=mp['params'], \n",
    "                               cv=5, scoring='accuracy', verbose=1, n_jobs=-1)\n",
    "    grid_search.fit(x_train_scaled, y_train)  # Train the model\n",
    "    \n",
    "    # Save best parameters and accuracy\n",
    "    best_params = grid_search.best_params_\n",
    "    best_score = grid_search.best_score_\n",
    "    print(f\"Best Parameters for {name}: {best_params}\")\n",
    "    print(f\"Best Cross-Validation Accuracy for {name}: {best_score:.4f}\")\n",
    "    \n",
    "    # Test on the test set\n",
    "    y_pred = grid_search.best_estimator_.predict(x_test_scaled)\n",
    "    test_accuracy = accuracy_score(y_test, y_pred)\n",
    "    print(f\"Test Set Accuracy for {name}: {test_accuracy:.4f}\\n\")\n",
    "    \n",
    "    # Store results\n",
    "    results[name] = {\n",
    "        'Best Parameters': best_params,\n",
    "        'CV Accuracy': best_score,\n",
    "        'Test Accuracy': test_accuracy,\n",
    "    }\n",
    "\n",
    "# Print summary of results\n",
    "print(\"\\nSummary of Results:\")\n",
    "for model_name, result in results.items():\n",
    "    print(f\"{model_name}:\")\n",
    "    print(f\"  Best Parameters: {result['Best Parameters']}\")\n",
    "    print(f\"  Cross-Validation Accuracy: {result['CV Accuracy']:.4f}\")\n",
    "    print(f\"  Test Accuracy: {result['Test Accuracy']:.4f}\")\n",
    "    print()"
   ]
  },
  {
   "cell_type": "code",
   "execution_count": 85,
   "id": "023b20b2",
   "metadata": {},
   "outputs": [
    {
     "name": "stdout",
     "output_type": "stream",
     "text": [
      "Evaluating Logistic Regression...\n",
      "Logistic Regression Accuracy with Probabilities: 0.9357\n",
      "\n",
      "Evaluating Decision Tree...\n",
      "Decision Tree Accuracy with Probabilities: 0.9012\n",
      "\n",
      "Evaluating K-Nearest Neighbors...\n",
      "K-Nearest Neighbors Accuracy with Probabilities: 0.9276\n",
      "\n",
      "Evaluating Random Forest...\n",
      "Random Forest Accuracy with Probabilities: 0.9360\n",
      "\n",
      "Evaluating SVM (Linear)...\n",
      "SVM (Linear) Accuracy with Probabilities: 0.9362\n",
      "\n"
     ]
    }
   ],
   "source": [
    "from sklearn.metrics import accuracy_score\n",
    "\n",
    "# Dictionary of models\n",
    "classifiers = {\n",
    "    'Logistic Regression': LogisticRegression(),\n",
    "    'Decision Tree': DecisionTreeClassifier(),\n",
    "    'K-Nearest Neighbors': KNeighborsClassifier(),\n",
    "    'Random Forest': RandomForestClassifier(),\n",
    "    'SVM (Linear)': SVC(kernel='linear', probability=True)  # Enable probabilities for SVM\n",
    "}\n",
    "\n",
    "# Train each model and evaluate using predicted probabilities\n",
    "threshold = 0.5  # Default threshold for binary classification\n",
    "\n",
    "for name, clf in classifiers.items():\n",
    "    print(f\"Evaluating {name}...\")\n",
    "    \n",
    "    # Train the classifier\n",
    "    clf.fit(x_train_scaled, y_train)\n",
    "    \n",
    "    # Get predicted probabilities\n",
    "    if hasattr(clf, \"predict_proba\"):\n",
    "        y_pred_proba = clf.predict_proba(x_test_scaled)[:, 1]  # Probability of the positive class\n",
    "    else:\n",
    "        y_pred_proba = clf.decision_function(x_test_scaled)  # For SVM, use decision_function\n",
    "    \n",
    "    # Convert probabilities to binary predictions based on the threshold\n",
    "    y_pred = (y_pred_proba >= threshold).astype(int)\n",
    "    \n",
    "    # Evaluate accuracy\n",
    "    accuracy = accuracy_score(y_test, y_pred)\n",
    "    print(f\"{name} Accuracy with Probabilities: {accuracy:.4f}\\n\")"
   ]
  },
  {
   "cell_type": "code",
   "execution_count": null,
   "id": "27a7f895",
   "metadata": {},
   "outputs": [],
   "source": []
  },
  {
   "cell_type": "code",
   "execution_count": null,
   "id": "b50e0998",
   "metadata": {},
   "outputs": [],
   "source": []
  },
  {
   "cell_type": "code",
   "execution_count": null,
   "id": "64356860",
   "metadata": {},
   "outputs": [],
   "source": []
  },
  {
   "cell_type": "code",
   "execution_count": null,
   "id": "5ab1632c",
   "metadata": {},
   "outputs": [],
   "source": []
  },
  {
   "cell_type": "code",
   "execution_count": null,
   "id": "9d23f11e",
   "metadata": {},
   "outputs": [],
   "source": []
  },
  {
   "cell_type": "code",
   "execution_count": null,
   "id": "d2a01bfb",
   "metadata": {},
   "outputs": [],
   "source": []
  },
  {
   "cell_type": "code",
   "execution_count": null,
   "id": "94eb6ff8",
   "metadata": {},
   "outputs": [],
   "source": []
  },
  {
   "cell_type": "code",
   "execution_count": null,
   "id": "a0538071",
   "metadata": {},
   "outputs": [],
   "source": []
  },
  {
   "cell_type": "code",
   "execution_count": null,
   "id": "21103992",
   "metadata": {},
   "outputs": [],
   "source": []
  }
 ],
 "metadata": {
  "kernelspec": {
   "display_name": "Python 3 (ipykernel)",
   "language": "python",
   "name": "python3"
  },
  "language_info": {
   "codemirror_mode": {
    "name": "ipython",
    "version": 3
   },
   "file_extension": ".py",
   "mimetype": "text/x-python",
   "name": "python",
   "nbconvert_exporter": "python",
   "pygments_lexer": "ipython3",
   "version": "3.9.7"
  }
 },
 "nbformat": 4,
 "nbformat_minor": 5
}
